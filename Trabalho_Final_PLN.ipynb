{
  "nbformat": 4,
  "nbformat_minor": 0,
  "metadata": {
    "colab": {
      "name": "Trabalho Final PLN",
      "provenance": [],
      "include_colab_link": true
    },
    "kernelspec": {
      "display_name": "Python 3",
      "name": "python3"
    },
    "language_info": {
      "name": "python"
    }
  },
  "cells": [
    {
      "cell_type": "markdown",
      "metadata": {
        "id": "view-in-github",
        "colab_type": "text"
      },
      "source": [
        "<a href=\"https://colab.research.google.com/github/aguilarafa2010/PLN/blob/main/Trabalho_Final_PLN.ipynb\" target=\"_parent\"><img src=\"https://colab.research.google.com/assets/colab-badge.svg\" alt=\"Open In Colab\"/></a>"
      ]
    },
    {
      "cell_type": "code",
      "metadata": {
        "id": "ZL-GzmuaCSHz",
        "colab": {
          "base_uri": "https://localhost:8080/"
        },
        "outputId": "fbfefa71-68fa-4132-96a7-851999673ef3"
      },
      "source": [
        "# Bibliotecas\n",
        "\n",
        "import pandas as pd\n",
        "import numpy as np\n",
        "\n",
        "import nltk\n",
        "from nltk import tokenize\n",
        "nltk.download('punkt')\n",
        "nltk.download('wordnet')\n",
        "nltk.download('stopwords')\n",
        "\n",
        "from nltk.stem.wordnet import WordNetLemmatizer\n",
        "from nltk.corpus import stopwords\n",
        "\n",
        "from collections import Counter\n",
        "\n",
        "from sklearn.feature_extraction.text import CountVectorizer\n",
        "from sklearn.metrics import f1_score\n",
        "from sklearn.metrics import precision_score\n",
        "from sklearn.metrics import recall_score\n",
        "from sklearn.metrics import confusion_matrix\n",
        "\n",
        "\n",
        "import matplotlib.pyplot as plt\n",
        "import seaborn as sns\n",
        "\n",
        "from sklearn import  model_selection\n",
        "\n",
        "from sklearn.linear_model import LogisticRegression\n",
        "from sklearn.svm import LinearSVC\n",
        "from sklearn.naive_bayes import GaussianNB\n",
        "\n",
        "from sklearn.metrics import accuracy_score\n",
        "from sklearn.metrics import confusion_matrix\n",
        "from sklearn.model_selection import train_test_split\n",
        "from sklearn.preprocessing import LabelEncoder\n",
        "from imblearn.over_sampling import RandomOverSampler\n",
        "\n",
        "!conda install -c conda-forge spacy\n",
        "!python -m spacy download pt_core_news_sm\n",
        "\n",
        "import pt_core_news_sm\n",
        "\n",
        "plt.rcParams[\"figure.figsize\"] = [20,5]\n",
        "sns.set_style(\"ticks\")"
      ],
      "execution_count": 26,
      "outputs": [
        {
          "output_type": "stream",
          "text": [
            "[nltk_data] Downloading package punkt to /root/nltk_data...\n",
            "[nltk_data]   Package punkt is already up-to-date!\n",
            "[nltk_data] Downloading package wordnet to /root/nltk_data...\n",
            "[nltk_data]   Package wordnet is already up-to-date!\n",
            "[nltk_data] Downloading package stopwords to /root/nltk_data...\n",
            "[nltk_data]   Package stopwords is already up-to-date!\n",
            "/bin/bash: conda: command not found\n",
            "Collecting pt_core_news_sm==2.2.5\n",
            "  Downloading https://github.com/explosion/spacy-models/releases/download/pt_core_news_sm-2.2.5/pt_core_news_sm-2.2.5.tar.gz (21.2 MB)\n",
            "\u001b[K     |████████████████████████████████| 21.2 MB 1.2 MB/s \n",
            "\u001b[?25hRequirement already satisfied: spacy>=2.2.2 in /usr/local/lib/python3.7/dist-packages (from pt_core_news_sm==2.2.5) (2.2.4)\n",
            "Requirement already satisfied: plac<1.2.0,>=0.9.6 in /usr/local/lib/python3.7/dist-packages (from spacy>=2.2.2->pt_core_news_sm==2.2.5) (1.1.3)\n",
            "Requirement already satisfied: murmurhash<1.1.0,>=0.28.0 in /usr/local/lib/python3.7/dist-packages (from spacy>=2.2.2->pt_core_news_sm==2.2.5) (1.0.5)\n",
            "Requirement already satisfied: setuptools in /usr/local/lib/python3.7/dist-packages (from spacy>=2.2.2->pt_core_news_sm==2.2.5) (57.2.0)\n",
            "Requirement already satisfied: requests<3.0.0,>=2.13.0 in /usr/local/lib/python3.7/dist-packages (from spacy>=2.2.2->pt_core_news_sm==2.2.5) (2.23.0)\n",
            "Requirement already satisfied: wasabi<1.1.0,>=0.4.0 in /usr/local/lib/python3.7/dist-packages (from spacy>=2.2.2->pt_core_news_sm==2.2.5) (0.8.2)\n",
            "Requirement already satisfied: preshed<3.1.0,>=3.0.2 in /usr/local/lib/python3.7/dist-packages (from spacy>=2.2.2->pt_core_news_sm==2.2.5) (3.0.5)\n",
            "Requirement already satisfied: cymem<2.1.0,>=2.0.2 in /usr/local/lib/python3.7/dist-packages (from spacy>=2.2.2->pt_core_news_sm==2.2.5) (2.0.5)\n",
            "Requirement already satisfied: thinc==7.4.0 in /usr/local/lib/python3.7/dist-packages (from spacy>=2.2.2->pt_core_news_sm==2.2.5) (7.4.0)\n",
            "Requirement already satisfied: srsly<1.1.0,>=1.0.2 in /usr/local/lib/python3.7/dist-packages (from spacy>=2.2.2->pt_core_news_sm==2.2.5) (1.0.5)\n",
            "Requirement already satisfied: catalogue<1.1.0,>=0.0.7 in /usr/local/lib/python3.7/dist-packages (from spacy>=2.2.2->pt_core_news_sm==2.2.5) (1.0.0)\n",
            "Requirement already satisfied: blis<0.5.0,>=0.4.0 in /usr/local/lib/python3.7/dist-packages (from spacy>=2.2.2->pt_core_news_sm==2.2.5) (0.4.1)\n",
            "Requirement already satisfied: numpy>=1.15.0 in /usr/local/lib/python3.7/dist-packages (from spacy>=2.2.2->pt_core_news_sm==2.2.5) (1.19.5)\n",
            "Requirement already satisfied: tqdm<5.0.0,>=4.38.0 in /usr/local/lib/python3.7/dist-packages (from spacy>=2.2.2->pt_core_news_sm==2.2.5) (4.41.1)\n",
            "Requirement already satisfied: importlib-metadata>=0.20 in /usr/local/lib/python3.7/dist-packages (from catalogue<1.1.0,>=0.0.7->spacy>=2.2.2->pt_core_news_sm==2.2.5) (4.6.1)\n",
            "Requirement already satisfied: zipp>=0.5 in /usr/local/lib/python3.7/dist-packages (from importlib-metadata>=0.20->catalogue<1.1.0,>=0.0.7->spacy>=2.2.2->pt_core_news_sm==2.2.5) (3.5.0)\n",
            "Requirement already satisfied: typing-extensions>=3.6.4 in /usr/local/lib/python3.7/dist-packages (from importlib-metadata>=0.20->catalogue<1.1.0,>=0.0.7->spacy>=2.2.2->pt_core_news_sm==2.2.5) (3.7.4.3)\n",
            "Requirement already satisfied: chardet<4,>=3.0.2 in /usr/local/lib/python3.7/dist-packages (from requests<3.0.0,>=2.13.0->spacy>=2.2.2->pt_core_news_sm==2.2.5) (3.0.4)\n",
            "Requirement already satisfied: idna<3,>=2.5 in /usr/local/lib/python3.7/dist-packages (from requests<3.0.0,>=2.13.0->spacy>=2.2.2->pt_core_news_sm==2.2.5) (2.10)\n",
            "Requirement already satisfied: urllib3!=1.25.0,!=1.25.1,<1.26,>=1.21.1 in /usr/local/lib/python3.7/dist-packages (from requests<3.0.0,>=2.13.0->spacy>=2.2.2->pt_core_news_sm==2.2.5) (1.24.3)\n",
            "Requirement already satisfied: certifi>=2017.4.17 in /usr/local/lib/python3.7/dist-packages (from requests<3.0.0,>=2.13.0->spacy>=2.2.2->pt_core_news_sm==2.2.5) (2021.5.30)\n",
            "\u001b[38;5;2m✔ Download and installation successful\u001b[0m\n",
            "You can now load the model via spacy.load('pt_core_news_sm')\n"
          ],
          "name": "stdout"
        }
      ]
    },
    {
      "cell_type": "code",
      "metadata": {
        "id": "_g2URDFXDmeN"
      },
      "source": [
        "# Leitura do arquivo\n",
        "f = open(\"/content/sample_data/2000_Textos_Novo.txt\",\"r\")"
      ],
      "execution_count": 2,
      "outputs": []
    },
    {
      "cell_type": "markdown",
      "metadata": {
        "id": "tW7McQgSlh6k"
      },
      "source": [
        "#1) Criar um corpus com as instâncias de 2000_textos.txt, seguindo a seguinte estratégia:\n",
        "O novo corpus terá instâncias rotuladas com uma das 3 classes\n",
        "possíveis:\n",
        "- classe “positivo”: instâncias da base original rotuladas como “alegria”;\n",
        "- classe “negativo”: instâncias rotuladas como “raiva”, “medo”,\n",
        "“desgosto” e “tristeza”;\n",
        "- classe “neutro”: instâncias da base original rotuladas como “neutro”.\n",
        "As instâncias rotuladas como “surpresa” não serão utilizadas neste\n",
        "novo corpus. "
      ]
    },
    {
      "cell_type": "code",
      "metadata": {
        "id": "o-FAuY3wYIBK"
      },
      "source": [
        "# Métodos e funções\n",
        "\n",
        "def mudaClasse(x):\n",
        "  if 'alegria' in x[1]:\n",
        "    x[1] = 'positivo'\n",
        "  elif 'neutro' in x[1]:\n",
        "    x[1] = 'neutro'\n",
        "  elif 'surpresa' in x[1]:\n",
        "    x[1] = 'surpresa'\n",
        "  elif 'raiva' in x[1] or 'tristeza' in x[1] or 'medo' in x[1] or 'desgosto' in x[1]:\n",
        "    x[1] = 'negativo'\n",
        "\n",
        "  return x"
      ],
      "execution_count": 3,
      "outputs": []
    },
    {
      "cell_type": "code",
      "metadata": {
        "id": "UuRv7WV6H0Ii",
        "colab": {
          "base_uri": "https://localhost:8080/",
          "height": 419
        },
        "outputId": "7034717b-ead9-47f4-c0bd-154543363898"
      },
      "source": [
        "arquivo = []\n",
        "for i in f:\n",
        "  aux = i.split(';')\n",
        "  arquivo.append([aux[2],aux[0]])\n",
        "\n",
        "arquivo = [mudaClasse(x) for x in arquivo]\n",
        "\n",
        "df = pd.DataFrame(arquivo)\n",
        "df.columns = ['Texto', 'Classe']\n",
        "df"
      ],
      "execution_count": 4,
      "outputs": [
        {
          "output_type": "execute_result",
          "data": {
            "text/html": [
              "<div>\n",
              "<style scoped>\n",
              "    .dataframe tbody tr th:only-of-type {\n",
              "        vertical-align: middle;\n",
              "    }\n",
              "\n",
              "    .dataframe tbody tr th {\n",
              "        vertical-align: top;\n",
              "    }\n",
              "\n",
              "    .dataframe thead th {\n",
              "        text-align: right;\n",
              "    }\n",
              "</style>\n",
              "<table border=\"1\" class=\"dataframe\">\n",
              "  <thead>\n",
              "    <tr style=\"text-align: right;\">\n",
              "      <th></th>\n",
              "      <th>Texto</th>\n",
              "      <th>Classe</th>\n",
              "    </tr>\n",
              "  </thead>\n",
              "  <tbody>\n",
              "    <tr>\n",
              "      <th>0</th>\n",
              "      <td>irã liberta viúva condenada ao apedrejamento, ...</td>\n",
              "      <td>positivo</td>\n",
              "    </tr>\n",
              "    <tr>\n",
              "      <th>1</th>\n",
              "      <td>haiti sofre com cólera depois da passagem do f...</td>\n",
              "      <td>negativo</td>\n",
              "    </tr>\n",
              "    <tr>\n",
              "      <th>2</th>\n",
              "      <td>mulher acorda e encontra crocodilo de 3 m e 27...</td>\n",
              "      <td>surpresa</td>\n",
              "    </tr>\n",
              "    <tr>\n",
              "      <th>3</th>\n",
              "      <td>enchentes causam a morte de 4 pessoas em al: v...</td>\n",
              "      <td>negativo</td>\n",
              "    </tr>\n",
              "    <tr>\n",
              "      <th>4</th>\n",
              "      <td>sem detalhes do que será discutido, revisão do...</td>\n",
              "      <td>neutro</td>\n",
              "    </tr>\n",
              "    <tr>\n",
              "      <th>...</th>\n",
              "      <td>...</td>\n",
              "      <td>...</td>\n",
              "    </tr>\n",
              "    <tr>\n",
              "      <th>1994</th>\n",
              "      <td>crise econômica agrava situação dos direitos h...</td>\n",
              "      <td>negativo</td>\n",
              "    </tr>\n",
              "    <tr>\n",
              "      <th>1995</th>\n",
              "      <td>reforma tributária ‘é o frankenstein do franke...</td>\n",
              "      <td>negativo</td>\n",
              "    </tr>\n",
              "    <tr>\n",
              "      <th>1996</th>\n",
              "      <td>pernambuco tem apenas 2,5% da área original de...</td>\n",
              "      <td>negativo</td>\n",
              "    </tr>\n",
              "    <tr>\n",
              "      <th>1997</th>\n",
              "      <td>veja as principais notícias de abril: oms elev...</td>\n",
              "      <td>negativo</td>\n",
              "    </tr>\n",
              "    <tr>\n",
              "      <th>1998</th>\n",
              "      <td>aos 64 anos, noiva realiza sonho em casamento ...</td>\n",
              "      <td>positivo</td>\n",
              "    </tr>\n",
              "  </tbody>\n",
              "</table>\n",
              "<p>1999 rows × 2 columns</p>\n",
              "</div>"
            ],
            "text/plain": [
              "                                                  Texto    Classe\n",
              "0     irã liberta viúva condenada ao apedrejamento, ...  positivo\n",
              "1     haiti sofre com cólera depois da passagem do f...  negativo\n",
              "2     mulher acorda e encontra crocodilo de 3 m e 27...  surpresa\n",
              "3     enchentes causam a morte de 4 pessoas em al: v...  negativo\n",
              "4     sem detalhes do que será discutido, revisão do...    neutro\n",
              "...                                                 ...       ...\n",
              "1994  crise econômica agrava situação dos direitos h...  negativo\n",
              "1995  reforma tributária ‘é o frankenstein do franke...  negativo\n",
              "1996  pernambuco tem apenas 2,5% da área original de...  negativo\n",
              "1997  veja as principais notícias de abril: oms elev...  negativo\n",
              "1998  aos 64 anos, noiva realiza sonho em casamento ...  positivo\n",
              "\n",
              "[1999 rows x 2 columns]"
            ]
          },
          "metadata": {
            "tags": []
          },
          "execution_count": 4
        }
      ]
    },
    {
      "cell_type": "code",
      "metadata": {
        "id": "73sc-dE2cUK3",
        "colab": {
          "base_uri": "https://localhost:8080/"
        },
        "outputId": "cecdf28c-271e-47a2-dc09-00700fc74f34"
      },
      "source": [
        "df = df.drop(df[df.Classe == 'surpresa'].index)\n",
        "\n",
        "classes = df['Classe']\n",
        "classes.unique()"
      ],
      "execution_count": 5,
      "outputs": [
        {
          "output_type": "execute_result",
          "data": {
            "text/plain": [
              "array(['positivo', 'negativo', 'neutro'], dtype=object)"
            ]
          },
          "metadata": {
            "tags": []
          },
          "execution_count": 5
        }
      ]
    },
    {
      "cell_type": "code",
      "metadata": {
        "id": "NWAhY17IPc8V",
        "colab": {
          "base_uri": "https://localhost:8080/"
        },
        "outputId": "dda8c234-021e-439e-c514-473f00ededb0"
      },
      "source": [
        "df.info()"
      ],
      "execution_count": 6,
      "outputs": [
        {
          "output_type": "stream",
          "text": [
            "<class 'pandas.core.frame.DataFrame'>\n",
            "Int64Index: 1747 entries, 0 to 1998\n",
            "Data columns (total 2 columns):\n",
            " #   Column  Non-Null Count  Dtype \n",
            "---  ------  --------------  ----- \n",
            " 0   Texto   1747 non-null   object\n",
            " 1   Classe  1747 non-null   object\n",
            "dtypes: object(2)\n",
            "memory usage: 40.9+ KB\n"
          ],
          "name": "stdout"
        }
      ]
    },
    {
      "cell_type": "markdown",
      "metadata": {
        "id": "z_-pZDRXlu22"
      },
      "source": [
        "#2) Plote a nova distribuição das classes."
      ]
    },
    {
      "cell_type": "code",
      "metadata": {
        "id": "_vqn2syqj6Kq",
        "colab": {
          "base_uri": "https://localhost:8080/",
          "height": 204
        },
        "outputId": "671524e2-83f1-48fb-8e0b-2a6c29b4a036"
      },
      "source": [
        "grupos = df.groupby('Classe')\n",
        "grupos.describe()"
      ],
      "execution_count": 7,
      "outputs": [
        {
          "output_type": "execute_result",
          "data": {
            "text/html": [
              "<div>\n",
              "<style scoped>\n",
              "    .dataframe tbody tr th:only-of-type {\n",
              "        vertical-align: middle;\n",
              "    }\n",
              "\n",
              "    .dataframe tbody tr th {\n",
              "        vertical-align: top;\n",
              "    }\n",
              "\n",
              "    .dataframe thead tr th {\n",
              "        text-align: left;\n",
              "    }\n",
              "\n",
              "    .dataframe thead tr:last-of-type th {\n",
              "        text-align: right;\n",
              "    }\n",
              "</style>\n",
              "<table border=\"1\" class=\"dataframe\">\n",
              "  <thead>\n",
              "    <tr>\n",
              "      <th></th>\n",
              "      <th colspan=\"4\" halign=\"left\">Texto</th>\n",
              "    </tr>\n",
              "    <tr>\n",
              "      <th></th>\n",
              "      <th>count</th>\n",
              "      <th>unique</th>\n",
              "      <th>top</th>\n",
              "      <th>freq</th>\n",
              "    </tr>\n",
              "    <tr>\n",
              "      <th>Classe</th>\n",
              "      <th></th>\n",
              "      <th></th>\n",
              "      <th></th>\n",
              "      <th></th>\n",
              "    </tr>\n",
              "  </thead>\n",
              "  <tbody>\n",
              "    <tr>\n",
              "      <th>negativo</th>\n",
              "      <td>1021</td>\n",
              "      <td>1021</td>\n",
              "      <td>após prédio desabar, coreia do norte faz raro ...</td>\n",
              "      <td>1</td>\n",
              "    </tr>\n",
              "    <tr>\n",
              "      <th>neutro</th>\n",
              "      <td>542</td>\n",
              "      <td>542</td>\n",
              "      <td>força sindical faz festa do dia do trabalho na...</td>\n",
              "      <td>1</td>\n",
              "    </tr>\n",
              "    <tr>\n",
              "      <th>positivo</th>\n",
              "      <td>184</td>\n",
              "      <td>184</td>\n",
              "      <td>obama ordena revisão das práticas de deportaçã...</td>\n",
              "      <td>1</td>\n",
              "    </tr>\n",
              "  </tbody>\n",
              "</table>\n",
              "</div>"
            ],
            "text/plain": [
              "         Texto                                                               \n",
              "         count unique                                                top freq\n",
              "Classe                                                                       \n",
              "negativo  1021   1021  após prédio desabar, coreia do norte faz raro ...    1\n",
              "neutro     542    542  força sindical faz festa do dia do trabalho na...    1\n",
              "positivo   184    184  obama ordena revisão das práticas de deportaçã...    1"
            ]
          },
          "metadata": {
            "tags": []
          },
          "execution_count": 7
        }
      ]
    },
    {
      "cell_type": "code",
      "metadata": {
        "id": "NefkiCQ-FPaT",
        "colab": {
          "base_uri": "https://localhost:8080/",
          "height": 405
        },
        "outputId": "a56aa738-957c-4716-879b-6f5ccf39a773"
      },
      "source": [
        "sns.countplot(df.Classe)"
      ],
      "execution_count": 27,
      "outputs": [
        {
          "output_type": "stream",
          "text": [
            "/usr/local/lib/python3.7/dist-packages/seaborn/_decorators.py:43: FutureWarning: Pass the following variable as a keyword arg: x. From version 0.12, the only valid positional argument will be `data`, and passing other arguments without an explicit keyword will result in an error or misinterpretation.\n",
            "  FutureWarning\n"
          ],
          "name": "stderr"
        },
        {
          "output_type": "execute_result",
          "data": {
            "text/plain": [
              "<matplotlib.axes._subplots.AxesSubplot at 0x7fbc5d5f1290>"
            ]
          },
          "metadata": {
            "tags": []
          },
          "execution_count": 27
        },
        {
          "output_type": "display_data",
          "data": {
            "image/png": "[encoded data removed]",
            "text/plain": [
              "<Figure size 1440x360 with 1 Axes>"
            ]
          },
          "metadata": {
            "tags": []
          }
        }
      ]
    },
    {
      "cell_type": "markdown",
      "metadata": {
        "id": "vSg2-33El1Qa"
      },
      "source": [
        "#3) Treine ao menos 3 classificadores que você achar mais apropriado para o problema:\n",
        "\n",
        "Utilize a validação cruzada com 10-folds."
      ]
    },
    {
      "cell_type": "code",
      "metadata": {
        "id": "si_Q-1SB71ko",
        "colab": {
          "base_uri": "https://localhost:8080/",
          "height": 204
        },
        "outputId": "a0a7131d-d081-4958-b37b-ed83e1087686"
      },
      "source": [
        "# Tokenização das palavras\n",
        "# palavras_tokenize = []\n",
        "contador = []\n",
        "\n",
        "stop_words = set(stopwords.words('portuguese'))\n",
        "nlp = pt_core_news_sm.load()\n",
        "for index, row in df.iterrows():\n",
        "  palavras = tokenize.word_tokenize(row.Texto, language='portuguese')\n",
        "  palavras_tokenize = [word.lower() for word in palavras if word.isalpha() and word not in stop_words]\n",
        "\n",
        "  texto = \" \".join(palavras_tokenize)  \n",
        "  doc = nlp(texto)\n",
        "\n",
        "  aux = \"\"\n",
        "\n",
        "  for token in doc:\n",
        "    aux += f\" {token.lemma_}\"\n",
        "\n",
        "  df.at[index, 'Texto_Atualizado'] = aux\n",
        "\n",
        "  contador.append(Counter(palavras))\n",
        "\n",
        "df.head()"
      ],
      "execution_count": 9,
      "outputs": [
        {
          "output_type": "execute_result",
          "data": {
            "text/html": [
              "<div>\n",
              "<style scoped>\n",
              "    .dataframe tbody tr th:only-of-type {\n",
              "        vertical-align: middle;\n",
              "    }\n",
              "\n",
              "    .dataframe tbody tr th {\n",
              "        vertical-align: top;\n",
              "    }\n",
              "\n",
              "    .dataframe thead th {\n",
              "        text-align: right;\n",
              "    }\n",
              "</style>\n",
              "<table border=\"1\" class=\"dataframe\">\n",
              "  <thead>\n",
              "    <tr style=\"text-align: right;\">\n",
              "      <th></th>\n",
              "      <th>Texto</th>\n",
              "      <th>Classe</th>\n",
              "      <th>Texto_Atualizado</th>\n",
              "    </tr>\n",
              "  </thead>\n",
              "  <tbody>\n",
              "    <tr>\n",
              "      <th>0</th>\n",
              "      <td>irã liberta viúva condenada ao apedrejamento, ...</td>\n",
              "      <td>positivo</td>\n",
              "      <td>irã liberto viúvo condenar apedrejamento dize...</td>\n",
              "    </tr>\n",
              "    <tr>\n",
              "      <th>1</th>\n",
              "      <td>haiti sofre com cólera depois da passagem do f...</td>\n",
              "      <td>negativo</td>\n",
              "      <td>haiti sofrer cólera passagem furacão sandy ap...</td>\n",
              "    </tr>\n",
              "    <tr>\n",
              "      <th>3</th>\n",
              "      <td>enchentes causam a morte de 4 pessoas em al: v...</td>\n",
              "      <td>negativo</td>\n",
              "      <td>enchente causar morte pessoa al vítima mãe fi...</td>\n",
              "    </tr>\n",
              "    <tr>\n",
              "      <th>4</th>\n",
              "      <td>sem detalhes do que será discutido, revisão do...</td>\n",
              "      <td>neutro</td>\n",
              "      <td>detalhe discutir revisão planar diretor comed...</td>\n",
              "    </tr>\n",
              "    <tr>\n",
              "      <th>5</th>\n",
              "      <td>chávez apresenta neto de allende como companhe...</td>\n",
              "      <td>neutro</td>\n",
              "      <td>chávez apresentar neto allende companheiro fi...</td>\n",
              "    </tr>\n",
              "  </tbody>\n",
              "</table>\n",
              "</div>"
            ],
            "text/plain": [
              "                                               Texto  ...                                   Texto_Atualizado\n",
              "0  irã liberta viúva condenada ao apedrejamento, ...  ...   irã liberto viúvo condenar apedrejamento dize...\n",
              "1  haiti sofre com cólera depois da passagem do f...  ...   haiti sofrer cólera passagem furacão sandy ap...\n",
              "3  enchentes causam a morte de 4 pessoas em al: v...  ...   enchente causar morte pessoa al vítima mãe fi...\n",
              "4  sem detalhes do que será discutido, revisão do...  ...   detalhe discutir revisão planar diretor comed...\n",
              "5  chávez apresenta neto de allende como companhe...  ...   chávez apresentar neto allende companheiro fi...\n",
              "\n",
              "[5 rows x 3 columns]"
            ]
          },
          "metadata": {
            "tags": []
          },
          "execution_count": 9
        }
      ]
    },
    {
      "cell_type": "code",
      "metadata": {
        "id": "-ST6mBBW-_3g",
        "colab": {
          "base_uri": "https://localhost:8080/"
        },
        "outputId": "8be44184-2393-4624-d6ab-e7ea5f842183"
      },
      "source": [
        "vectorizer = CountVectorizer()\n",
        "vectors = vectorizer.fit_transform(df.Texto_Atualizado)\n",
        "vectors.shape"
      ],
      "execution_count": 10,
      "outputs": [
        {
          "output_type": "execute_result",
          "data": {
            "text/plain": [
              "(1747, 6248)"
            ]
          },
          "metadata": {
            "tags": []
          },
          "execution_count": 10
        }
      ]
    },
    {
      "cell_type": "code",
      "metadata": {
        "id": "vFP2GRBRBIzi"
      },
      "source": [
        "# Prepara as classes\n",
        "\n",
        "def prepare_targets(y_train, y_test):\n",
        "  le = LabelEncoder()\n",
        "  le.fit(y_train)\n",
        "  y_train_enc = le.transform(y_train)\n",
        "  y_test_enc = le.transform(y_test)\n",
        "  return y_train_enc, y_test_enc"
      ],
      "execution_count": 11,
      "outputs": []
    },
    {
      "cell_type": "code",
      "metadata": {
        "colab": {
          "base_uri": "https://localhost:8080/",
          "height": 421
        },
        "id": "wSb76oQLNlnl",
        "outputId": "653cddd2-3135-4664-92ee-e80c9639f3e0"
      },
      "source": [
        "# Usando técnica de overSampling para ajustar a quantidade de dados\n",
        "rus = RandomOverSampler()\n",
        "X_res, y_res = rus.fit_sample(vectors, df.Classe)\n",
        " \n",
        "# ver o balanceamento das classes\n",
        "print(pd.Series(y_res).value_counts())\n",
        " \n",
        "# plotar a nova distribuição de classes\n",
        "sns.countplot(y_res);"
      ],
      "execution_count": 12,
      "outputs": [
        {
          "output_type": "stream",
          "text": [
            "negativo    1021\n",
            "positivo    1021\n",
            "neutro      1021\n",
            "dtype: int64\n"
          ],
          "name": "stdout"
        },
        {
          "output_type": "stream",
          "text": [
            "/usr/local/lib/python3.7/dist-packages/sklearn/utils/deprecation.py:87: FutureWarning: Function safe_indexing is deprecated; safe_indexing is deprecated in version 0.22 and will be removed in version 0.24.\n",
            "  warnings.warn(msg, category=FutureWarning)\n",
            "/usr/local/lib/python3.7/dist-packages/seaborn/_decorators.py:43: FutureWarning: Pass the following variable as a keyword arg: x. From version 0.12, the only valid positional argument will be `data`, and passing other arguments without an explicit keyword will result in an error or misinterpretation.\n",
            "  FutureWarning\n"
          ],
          "name": "stderr"
        },
        {
          "output_type": "display_data",
          "data": {
            "image/png": "[encoded data removed]",
            "text/plain": [
              "<Figure size 432x288 with 1 Axes>"
            ]
          },
          "metadata": {
            "tags": [],
            "needs_background": "light"
          }
        }
      ]
    },
    {
      "cell_type": "code",
      "metadata": {
        "id": "he2zKTN0_uiu"
      },
      "source": [
        "# Separando os dados em Treinamento e Teste\n",
        "\n",
        "X_train, X_test, y_train, y_test = train_test_split(X_res, y_res, \n",
        "                                                    test_size=0.3, random_state=1)\n",
        "\n",
        "y_train, y_test = prepare_targets(y_train, y_test)\n",
        "\n",
        "# Para uso da Validação Cruzada\n",
        "\n",
        "folds=10\n",
        "y = np.concatenate([y_train, y_test])\n",
        "X = np.concatenate([X_train.toarray(), X_test.toarray()])"
      ],
      "execution_count": 13,
      "outputs": []
    },
    {
      "cell_type": "code",
      "metadata": {
        "id": "BwiJTP7iCvZ-",
        "colab": {
          "base_uri": "https://localhost:8080/"
        },
        "outputId": "3f0c42b7-3f62-455e-e64f-69df9893b04c"
      },
      "source": [
        "# TREINANDO MODELO SVM\n",
        "# Prepara os dados de saída\n",
        "\n",
        "# Create the LinearSVC model\n",
        "clf_a = LinearSVC(random_state=1, dual=False)\n",
        "# Fit the model\n",
        "clf_a.fit(X_train, y_train)\n",
        "\n",
        "print(f'Model test accuracy: {clf_a.score(X_test, y_test)*100:.3f}%')\n",
        "\n",
        "# Avaliando o modelo\n",
        "yhat_a = clf_a.predict(X_test)\n",
        "\n",
        "# EXEMPLO USANDO VALIDAÇÃO CRUZADA\n",
        "res_a = LinearSVC(random_state=1, dual=False)\n",
        "\n",
        "result_a = model_selection.cross_val_score(res_a, X, y, cv=folds)\n",
        "print(\"\\nCross Validation Results %d folds:\" % folds)\n",
        "mean = result_a.mean()*100\n",
        "print(\"Mean Accuracy: %.3f\" % mean)\n",
        "print(\"Mean Std: %.3f\" % result_a.std())\n",
        "\n",
        "Z_a = model_selection.cross_val_predict(res_a, X, y, cv=folds)"
      ],
      "execution_count": 14,
      "outputs": [
        {
          "output_type": "stream",
          "text": [
            "Model test accuracy: 90.751%\n",
            "\n",
            "Cross Validation Results 10 folds:\n",
            "Mean Accuracy: 92.262\n",
            "Mean Std: 0.012\n"
          ],
          "name": "stdout"
        }
      ]
    },
    {
      "cell_type": "code",
      "metadata": {
        "id": "r9X9WNoSCknD",
        "colab": {
          "base_uri": "https://localhost:8080/"
        },
        "outputId": "ac12d844-65a6-48b7-8d8b-69738fe53df5"
      },
      "source": [
        "# MODELO LOGISTIC REGRESSION\n",
        "\n",
        "# Declara o classificador\n",
        "clf_b = LogisticRegression()\n",
        "\n",
        "# Treina o classificador\n",
        "clf_b = clf_b.fit(X_train, y_train)\n",
        "print(f'Model test accuracy: {clf_b.score(X_test, y_test)*100:.3f}%')\n",
        "\n",
        "# Testa usando a base de testes\n",
        "yhat_b = clf_b.predict(X_test)\n",
        "\n",
        "# EXEMPLO USANDO VALIDAÇÃO CRUZADA\n",
        "res_b = LogisticRegression()\n",
        "\n",
        "Z_b = model_selection.cross_val_predict(res_b, X, y, cv=folds)\n",
        "\n",
        "result_b = model_selection.cross_val_score(res_b, X, y, cv=folds)\n",
        "print(\"\\nCross Validation Results %d folds:\" % folds)\n",
        "mean = result_b.mean()*100\n",
        "print(\"Mean Accuracy: %.3f\" % mean)\n",
        "print(\"Mean Std: %.3f\" % result_b.std())"
      ],
      "execution_count": 15,
      "outputs": [
        {
          "output_type": "stream",
          "text": [
            "Model test accuracy: 90.751%\n",
            "\n",
            "Cross Validation Results 10 folds:\n",
            "Mean Accuracy: 92.622\n",
            "Mean Std: 0.010\n"
          ],
          "name": "stdout"
        }
      ]
    },
    {
      "cell_type": "code",
      "metadata": {
        "colab": {
          "base_uri": "https://localhost:8080/"
        },
        "id": "aL41nYsKfNr9",
        "outputId": "442630ea-4542-4775-8ed9-8ac278d2ecaa"
      },
      "source": [
        "# MODELO NAIVE BAYES\n",
        "\n",
        "# Treina o classificador\n",
        "clf_c = GaussianNB()\n",
        "clf_c = clf_c.fit(X_train.toarray(), y_train)\n",
        "\n",
        "# Calcula a acurácia na base de teste\n",
        "score=clf_c.score(X_test.toarray(), y_test)\n",
        "print(f'Model test accuracy: {clf_c.score(X_test.toarray(), y_test)*100:.3f}%')\n",
        "\n",
        "# Testa usando a base de testes\n",
        "yhat_c = clf_c.predict(X_test.toarray())\n",
        "\n",
        "# EXEMPLO USANDO VALIDAÇÃO CRUZADA\n",
        "res_c = GaussianNB()\n",
        "\n",
        "Z_c = model_selection.cross_val_predict(res_c, X, y, cv=folds)\n",
        "\n",
        "result_c = model_selection.cross_val_score(res_c, X, y, cv=folds)\n",
        "print(\"\\nCross Validation Results %d folds:\" % folds)\n",
        "mean = result_c.mean()*100\n",
        "print(\"Mean Accuracy: %.3f\" % mean)\n",
        "print(\"Mean Std: %.3f\" % result_c.std())"
      ],
      "execution_count": 16,
      "outputs": [
        {
          "output_type": "stream",
          "text": [
            "Model test accuracy: 89.010%\n",
            "\n",
            "Cross Validation Results 10 folds:\n",
            "Mean Accuracy: 90.205\n",
            "Mean Std: 0.017\n"
          ],
          "name": "stdout"
        }
      ]
    },
    {
      "cell_type": "markdown",
      "metadata": {
        "id": "GUxxyBFyl7-r"
      },
      "source": [
        "# 4) Gere a matriz de confusão e calcule: cobertura, precisão e medida-f."
      ]
    },
    {
      "cell_type": "code",
      "metadata": {
        "colab": {
          "base_uri": "https://localhost:8080/"
        },
        "id": "ACFWQrZAfjD0",
        "outputId": "523b5409-54de-4a47-f308-9e63866a00ca"
      },
      "source": [
        "recall_a = recall_score(y, Z_a, average='weighted')\n",
        "recall_b = recall_score(y, Z_b, average='weighted')\n",
        "recall_c = recall_score(y, Z_c, average='weighted')\n",
        "\n",
        "print('Recall: %.3f' % recall_a)\n",
        "print('Recall: %.3f' % recall_b)\n",
        "print('Recall: %.3f' % recall_c)"
      ],
      "execution_count": 17,
      "outputs": [
        {
          "output_type": "stream",
          "text": [
            "Recall: 0.923\n",
            "Recall: 0.926\n",
            "Recall: 0.902\n"
          ],
          "name": "stdout"
        }
      ]
    },
    {
      "cell_type": "code",
      "metadata": {
        "colab": {
          "base_uri": "https://localhost:8080/"
        },
        "id": "_YeM_Gf4Xtq5",
        "outputId": "ebc51264-2bed-4c89-f303-c8cb8b396a95"
      },
      "source": [
        "precision_a = precision_score(y, Z_a, average='weighted')\n",
        "precision_b = precision_score(y, Z_b, average='weighted')\n",
        "precision_c = precision_score(y, Z_c, average='weighted')\n",
        "\n",
        "print('Precision: %.3f' % precision_a)\n",
        "print('Precision: %.3f' % precision_b)\n",
        "print('Precision: %.3f' % precision_c)"
      ],
      "execution_count": 18,
      "outputs": [
        {
          "output_type": "stream",
          "text": [
            "Precision: 0.923\n",
            "Precision: 0.927\n",
            "Precision: 0.905\n"
          ],
          "name": "stdout"
        }
      ]
    },
    {
      "cell_type": "code",
      "metadata": {
        "colab": {
          "base_uri": "https://localhost:8080/"
        },
        "id": "3BAdRBnSWWj7",
        "outputId": "471de3b7-887f-414d-e8af-e12b27e192da"
      },
      "source": [
        "\n",
        "score_a = f1_score(y, Z_a, average='weighted')\n",
        "score_b = f1_score(y, Z_b, average='weighted')\n",
        "score_c = f1_score(y, Z_c, average='weighted')\n",
        "\n",
        "print('F-Measure: %.3f' % score_a)\n",
        "print('F-Measure: %.3f' % score_b)\n",
        "print('F-Measure: %.3f' % score_c)"
      ],
      "execution_count": 19,
      "outputs": [
        {
          "output_type": "stream",
          "text": [
            "F-Measure: 0.922\n",
            "F-Measure: 0.925\n",
            "F-Measure: 0.901\n"
          ],
          "name": "stdout"
        }
      ]
    },
    {
      "cell_type": "markdown",
      "metadata": {
        "id": "Imr6hk_cmBTX"
      },
      "source": [
        "#5) Plote a matriz de confusão e imprima a cobertura, precisão e medida-f para cada classe."
      ]
    },
    {
      "cell_type": "code",
      "metadata": {
        "colab": {
          "base_uri": "https://localhost:8080/",
          "height": 334
        },
        "id": "EzrwCrDEWYMt",
        "outputId": "45a7570f-d600-4f19-891d-eaea694b8f28"
      },
      "source": [
        "confusion_matrix_1 = pd.crosstab(y_test, yhat_a, rownames=['Actual'], colnames=['Predicted'])\n",
        "confusion_matrix_2 = pd.crosstab(y, Z_a, rownames=['Actual'], colnames=['Predicted'])\n",
        "\n",
        "fig, ax =plt.subplots(1,2)\n",
        "sns.heatmap(confusion_matrix_1, annot=True, ax=ax[0], )\n",
        "sns.heatmap(confusion_matrix_2, annot=True, ax=ax[1] )\n",
        "\n",
        "fig.show()"
      ],
      "execution_count": 28,
      "outputs": [
        {
          "output_type": "display_data",
          "data": {
            "image/png": "[encoded data removed]",
            "text/plain": [
              "<Figure size 1440x360 with 4 Axes>"
            ]
          },
          "metadata": {
            "tags": []
          }
        }
      ]
    },
    {
      "cell_type": "code",
      "metadata": {
        "colab": {
          "base_uri": "https://localhost:8080/",
          "height": 334
        },
        "id": "0pRDqxRvXz7P",
        "outputId": "8f5f974c-6940-49cc-8fb3-dd849c7f8722"
      },
      "source": [
        "confusion_matrix_1 = pd.crosstab(y_test, yhat_b, rownames=['Actual'], colnames=['Predicted'])\n",
        "confusion_matrix_2 = pd.crosstab(y, Z_b, rownames=['Actual'], colnames=['Predicted'])\n",
        "\n",
        "fig, ax =plt.subplots(1,2)\n",
        "sns.heatmap(confusion_matrix_1, annot=True, ax=ax[0])\n",
        "sns.heatmap(confusion_matrix_2, annot=True, ax=ax[1] )\n",
        "\n",
        "fig.show()"
      ],
      "execution_count": 29,
      "outputs": [
        {
          "output_type": "display_data",
          "data": {
            "image/png": "[encoded data removed]",
            "text/plain": [
              "<Figure size 1440x360 with 4 Axes>"
            ]
          },
          "metadata": {
            "tags": []
          }
        }
      ]
    },
    {
      "cell_type": "code",
      "metadata": {
        "colab": {
          "base_uri": "https://localhost:8080/",
          "height": 334
        },
        "id": "kukzfj1rk7KX",
        "outputId": "f3f444bd-0523-4c7c-a646-3e68fe453f7a"
      },
      "source": [
        "confusion_matrix_1 = pd.crosstab(y_test, yhat_c, rownames=['Actual'], colnames=['Predicted'])\n",
        "confusion_matrix_2 = pd.crosstab(y, Z_c, rownames=['Actual'], colnames=['Predicted'])\n",
        "\n",
        "fig, ax =plt.subplots(1,2)\n",
        "sns.heatmap(confusion_matrix_1, annot=True, ax=ax[0])\n",
        "sns.heatmap(confusion_matrix_2, annot=True, ax=ax[1] )\n",
        "\n",
        "fig.show()"
      ],
      "execution_count": 30,
      "outputs": [
        {
          "output_type": "display_data",
          "data": {
            "image/png": "[encoded data removed]",
            "text/plain": [
              "<Figure size 1440x360 with 4 Axes>"
            ]
          },
          "metadata": {
            "tags": []
          }
        }
      ]
    },
    {
      "cell_type": "code",
      "metadata": {
        "colab": {
          "base_uri": "https://localhost:8080/"
        },
        "id": "JviYBdVsfQqS",
        "outputId": "ff9e7d63-2cec-4634-f024-0c35a1c91be2"
      },
      "source": [
        "recall_classe_a = recall_score(y, Z_a, average=None)\n",
        "print(recall_classe_a)\n",
        "\n",
        "recall_classe_b = recall_score(y, Z_b, average=None)\n",
        "print(recall_classe_b)\n",
        "\n",
        "recall_classe_c = recall_score(y, Z_c, average=None)\n",
        "print(recall_classe_c)"
      ],
      "execution_count": 23,
      "outputs": [
        {
          "output_type": "stream",
          "text": [
            "[0.85602351 0.91674829 0.99510284]\n",
            "[0.84818805 0.93339863 0.9970617 ]\n",
            "[0.791381   0.91968658 0.99510284]\n"
          ],
          "name": "stdout"
        }
      ]
    },
    {
      "cell_type": "code",
      "metadata": {
        "colab": {
          "base_uri": "https://localhost:8080/"
        },
        "id": "n7oD86pycIWa",
        "outputId": "2eddcc3f-95b3-4870-dd2f-08cf8dc28a8c"
      },
      "source": [
        "precision_classe_a = precision_score(y, Z_a, average=None)\n",
        "print(precision_classe_a)\n",
        "\n",
        "precision_classe_b = precision_score(y, Z_b, average=None)\n",
        "print(precision_classe_b)\n",
        "\n",
        "precision_classe_c = precision_score(y, Z_c, average=None)\n",
        "print(precision_classe_c)"
      ],
      "execution_count": 24,
      "outputs": [
        {
          "output_type": "stream",
          "text": [
            "[0.92291447 0.88135593 0.96394687]\n",
            "[0.94232862 0.88322521 0.95586854]\n",
            "[0.91922639 0.82658451 0.96946565]\n"
          ],
          "name": "stdout"
        }
      ]
    },
    {
      "cell_type": "code",
      "metadata": {
        "colab": {
          "base_uri": "https://localhost:8080/"
        },
        "id": "JDL3HA0DcIY0",
        "outputId": "7397b5bf-00fd-4d41-80bd-0122d42006a2"
      },
      "source": [
        "score_classe_a = f1_score(y, Z_a, average=None)\n",
        "print(score_classe_a)\n",
        "\n",
        "score_classe_b = f1_score(y, Z_b, average=None)\n",
        "print(score_classe_b)\n",
        "\n",
        "score_classe_c = f1_score(y, Z_c, average=None)\n",
        "print(score_classe_c)"
      ],
      "execution_count": 25,
      "outputs": [
        {
          "output_type": "stream",
          "text": [
            "[0.88821138 0.89870379 0.97927711]\n",
            "[0.89278351 0.90761905 0.97603068]\n",
            "[0.85052632 0.87065369 0.98211696]\n"
          ],
          "name": "stdout"
        }
      ]
    }
  ]
}