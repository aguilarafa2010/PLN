{
  "nbformat": 4,
  "nbformat_minor": 0,
  "metadata": {
    "colab": {
      "name": "Trabalho_Final_PLN.ipynb",
      "provenance": [],
      "collapsed_sections": [],
      "include_colab_link": true
    },
    "kernelspec": {
      "display_name": "Python 3",
      "name": "python3"
    },
    "language_info": {
      "name": "python"
    }
  },
  "cells": [
    {
      "cell_type": "markdown",
      "metadata": {
        "id": "view-in-github",
        "colab_type": "text"
      },
      "source": [
        "<a href=\"https://colab.research.google.com/github/aguilarafa2010/PLN/blob/main/Trabalho_Final_PLN.ipynb\" target=\"_parent\"><img src=\"https://colab.research.google.com/assets/colab-badge.svg\" alt=\"Open In Colab\"/></a>"
      ]
    },
    {
      "cell_type": "code",
      "metadata": {
        "id": "ZL-GzmuaCSHz",
        "colab": {
          "base_uri": "https://localhost:8080/"
        },
        "outputId": "93973c81-bfea-469c-c348-ca6e486227b7"
      },
      "source": [
        "# Bibliotecas\n",
        "\n",
        "import pandas as pd\n",
        "import numpy as np\n",
        "\n",
        "import nltk\n",
        "from nltk import tokenize\n",
        "nltk.download('punkt')\n",
        "nltk.download('wordnet')\n",
        "nltk.download('stopwords')\n",
        "\n",
        "from nltk.stem.wordnet import WordNetLemmatizer\n",
        "from nltk.corpus import stopwords\n",
        "\n",
        "from collections import Counter\n",
        "\n",
        "from sklearn.feature_extraction.text import CountVectorizer\n",
        "from sklearn.metrics import f1_score\n",
        "from sklearn.metrics import precision_score\n",
        "from sklearn.metrics import recall_score\n",
        "from sklearn.metrics import confusion_matrix\n",
        "\n",
        "\n",
        "import matplotlib.pyplot as plt\n",
        "import seaborn as sns\n",
        "\n",
        "from sklearn import  model_selection\n",
        "\n",
        "from sklearn.linear_model import LogisticRegression\n",
        "from sklearn.svm import LinearSVC\n",
        "from sklearn.naive_bayes import GaussianNB\n",
        "\n",
        "from sklearn.metrics import accuracy_score\n",
        "from sklearn.metrics import confusion_matrix\n",
        "from sklearn.model_selection import train_test_split\n",
        "from sklearn.preprocessing import LabelEncoder\n",
        "from imblearn.over_sampling import RandomOverSampler\n",
        "\n",
        "!conda install -c conda-forge spacy\n",
        "!python -m spacy download pt_core_news_sm\n",
        "\n",
        "import pt_core_news_sm\n",
        "\n",
        "plt.rcParams[\"figure.figsize\"] = [20,5]\n",
        "sns.set_style(\"ticks\")"
      ],
      "execution_count": 1,
      "outputs": [
        {
          "output_type": "stream",
          "text": [
            "[nltk_data] Downloading package punkt to /root/nltk_data...\n",
            "[nltk_data]   Package punkt is already up-to-date!\n",
            "[nltk_data] Downloading package wordnet to /root/nltk_data...\n",
            "[nltk_data]   Package wordnet is already up-to-date!\n",
            "[nltk_data] Downloading package stopwords to /root/nltk_data...\n",
            "[nltk_data]   Package stopwords is already up-to-date!\n",
            "/bin/bash: conda: command not found\n"
          ],
          "name": "stdout"
        },
        {
          "output_type": "stream",
          "text": [
            "/usr/local/lib/python3.7/dist-packages/sklearn/externals/six.py:31: FutureWarning: The module is deprecated in version 0.21 and will be removed in version 0.23 since we've dropped support for Python 2.7. Please rely on the official version of six (https://pypi.org/project/six/).\n",
            "  \"(https://pypi.org/project/six/).\", FutureWarning)\n",
            "/usr/local/lib/python3.7/dist-packages/sklearn/utils/deprecation.py:144: FutureWarning: The sklearn.neighbors.base module is  deprecated in version 0.22 and will be removed in version 0.24. The corresponding classes / functions should instead be imported from sklearn.neighbors. Anything that cannot be imported from sklearn.neighbors is now part of the private API.\n",
            "  warnings.warn(message, FutureWarning)\n"
          ],
          "name": "stderr"
        },
        {
          "output_type": "stream",
          "text": [
            "Collecting pt_core_news_sm==2.2.5\n",
            "  Downloading https://github.com/explosion/spacy-models/releases/download/pt_core_news_sm-2.2.5/pt_core_news_sm-2.2.5.tar.gz (21.2 MB)\n",
            "\u001b[K     |████████████████████████████████| 21.2 MB 1.4 MB/s \n",
            "\u001b[?25hRequirement already satisfied: spacy>=2.2.2 in /usr/local/lib/python3.7/dist-packages (from pt_core_news_sm==2.2.5) (2.2.4)\n",
            "Requirement already satisfied: setuptools in /usr/local/lib/python3.7/dist-packages (from spacy>=2.2.2->pt_core_news_sm==2.2.5) (57.2.0)\n",
            "Requirement already satisfied: plac<1.2.0,>=0.9.6 in /usr/local/lib/python3.7/dist-packages (from spacy>=2.2.2->pt_core_news_sm==2.2.5) (1.1.3)\n",
            "Requirement already satisfied: cymem<2.1.0,>=2.0.2 in /usr/local/lib/python3.7/dist-packages (from spacy>=2.2.2->pt_core_news_sm==2.2.5) (2.0.5)\n",
            "Requirement already satisfied: catalogue<1.1.0,>=0.0.7 in /usr/local/lib/python3.7/dist-packages (from spacy>=2.2.2->pt_core_news_sm==2.2.5) (1.0.0)\n",
            "Requirement already satisfied: blis<0.5.0,>=0.4.0 in /usr/local/lib/python3.7/dist-packages (from spacy>=2.2.2->pt_core_news_sm==2.2.5) (0.4.1)\n",
            "Requirement already satisfied: thinc==7.4.0 in /usr/local/lib/python3.7/dist-packages (from spacy>=2.2.2->pt_core_news_sm==2.2.5) (7.4.0)\n",
            "Requirement already satisfied: tqdm<5.0.0,>=4.38.0 in /usr/local/lib/python3.7/dist-packages (from spacy>=2.2.2->pt_core_news_sm==2.2.5) (4.41.1)\n",
            "Requirement already satisfied: murmurhash<1.1.0,>=0.28.0 in /usr/local/lib/python3.7/dist-packages (from spacy>=2.2.2->pt_core_news_sm==2.2.5) (1.0.5)\n",
            "Requirement already satisfied: wasabi<1.1.0,>=0.4.0 in /usr/local/lib/python3.7/dist-packages (from spacy>=2.2.2->pt_core_news_sm==2.2.5) (0.8.2)\n",
            "Requirement already satisfied: requests<3.0.0,>=2.13.0 in /usr/local/lib/python3.7/dist-packages (from spacy>=2.2.2->pt_core_news_sm==2.2.5) (2.23.0)\n",
            "Requirement already satisfied: numpy>=1.15.0 in /usr/local/lib/python3.7/dist-packages (from spacy>=2.2.2->pt_core_news_sm==2.2.5) (1.19.5)\n",
            "Requirement already satisfied: srsly<1.1.0,>=1.0.2 in /usr/local/lib/python3.7/dist-packages (from spacy>=2.2.2->pt_core_news_sm==2.2.5) (1.0.5)\n",
            "Requirement already satisfied: preshed<3.1.0,>=3.0.2 in /usr/local/lib/python3.7/dist-packages (from spacy>=2.2.2->pt_core_news_sm==2.2.5) (3.0.5)\n",
            "Requirement already satisfied: importlib-metadata>=0.20 in /usr/local/lib/python3.7/dist-packages (from catalogue<1.1.0,>=0.0.7->spacy>=2.2.2->pt_core_news_sm==2.2.5) (4.6.1)\n",
            "Requirement already satisfied: zipp>=0.5 in /usr/local/lib/python3.7/dist-packages (from importlib-metadata>=0.20->catalogue<1.1.0,>=0.0.7->spacy>=2.2.2->pt_core_news_sm==2.2.5) (3.5.0)\n",
            "Requirement already satisfied: typing-extensions>=3.6.4 in /usr/local/lib/python3.7/dist-packages (from importlib-metadata>=0.20->catalogue<1.1.0,>=0.0.7->spacy>=2.2.2->pt_core_news_sm==2.2.5) (3.7.4.3)\n",
            "Requirement already satisfied: urllib3!=1.25.0,!=1.25.1,<1.26,>=1.21.1 in /usr/local/lib/python3.7/dist-packages (from requests<3.0.0,>=2.13.0->spacy>=2.2.2->pt_core_news_sm==2.2.5) (1.24.3)\n",
            "Requirement already satisfied: certifi>=2017.4.17 in /usr/local/lib/python3.7/dist-packages (from requests<3.0.0,>=2.13.0->spacy>=2.2.2->pt_core_news_sm==2.2.5) (2021.5.30)\n",
            "Requirement already satisfied: chardet<4,>=3.0.2 in /usr/local/lib/python3.7/dist-packages (from requests<3.0.0,>=2.13.0->spacy>=2.2.2->pt_core_news_sm==2.2.5) (3.0.4)\n",
            "Requirement already satisfied: idna<3,>=2.5 in /usr/local/lib/python3.7/dist-packages (from requests<3.0.0,>=2.13.0->spacy>=2.2.2->pt_core_news_sm==2.2.5) (2.10)\n",
            "\u001b[38;5;2m✔ Download and installation successful\u001b[0m\n",
            "You can now load the model via spacy.load('pt_core_news_sm')\n"
          ],
          "name": "stdout"
        }
      ]
    },
    {
      "cell_type": "code",
      "metadata": {
        "id": "_g2URDFXDmeN"
      },
      "source": [
        "# Leitura do arquivo\n",
        "f = open(\"/content/sample_data/2000_Textos_Novo.txt\",\"r\")"
      ],
      "execution_count": 2,
      "outputs": []
    },
    {
      "cell_type": "markdown",
      "metadata": {
        "id": "tW7McQgSlh6k"
      },
      "source": [
        "#1) Criar um corpus com as instâncias de 2000_textos.txt, seguindo a seguinte estratégia:\n",
        "O novo corpus terá instâncias rotuladas com uma das 3 classes\n",
        "possíveis:\n",
        "- classe “positivo”: instâncias da base original rotuladas como “alegria”;\n",
        "- classe “negativo”: instâncias rotuladas como “raiva”, “medo”,\n",
        "“desgosto” e “tristeza”;\n",
        "- classe “neutro”: instâncias da base original rotuladas como “neutro”.\n",
        "As instâncias rotuladas como “surpresa” não serão utilizadas neste\n",
        "novo corpus. "
      ]
    },
    {
      "cell_type": "code",
      "metadata": {
        "id": "o-FAuY3wYIBK"
      },
      "source": [
        "# Métodos e funções\n",
        "\n",
        "def mudaClasse(x):\n",
        "  if 'positivo' in x[1]:\n",
        "    x[1] = 'positivo'\n",
        "  elif 'neutro' in x[1]:\n",
        "    x[1] = 'neutro'\n",
        "  elif 'negativo' in x[1]:\n",
        "    x[1] = 'negativo'\n",
        "\n",
        "  return x"
      ],
      "execution_count": 3,
      "outputs": []
    },
    {
      "cell_type": "code",
      "metadata": {
        "id": "UuRv7WV6H0Ii",
        "colab": {
          "base_uri": "https://localhost:8080/",
          "height": 419
        },
        "outputId": "29f25aae-70c1-4827-c660-fb4718e5e076"
      },
      "source": [
        "arquivo = []\n",
        "for i in f:\n",
        "  aux = i.split(';')\n",
        "  arquivo.append([aux[0],aux[1]])\n",
        "\n",
        "arquivo = [mudaClasse(x) for x in arquivo]\n",
        "\n",
        "df = pd.DataFrame(arquivo)\n",
        "df.columns = ['Texto', 'Classe']\n",
        "df"
      ],
      "execution_count": 4,
      "outputs": [
        {
          "output_type": "execute_result",
          "data": {
            "text/html": [
              "<div>\n",
              "<style scoped>\n",
              "    .dataframe tbody tr th:only-of-type {\n",
              "        vertical-align: middle;\n",
              "    }\n",
              "\n",
              "    .dataframe tbody tr th {\n",
              "        vertical-align: top;\n",
              "    }\n",
              "\n",
              "    .dataframe thead th {\n",
              "        text-align: right;\n",
              "    }\n",
              "</style>\n",
              "<table border=\"1\" class=\"dataframe\">\n",
              "  <thead>\n",
              "    <tr style=\"text-align: right;\">\n",
              "      <th></th>\n",
              "      <th>Texto</th>\n",
              "      <th>Classe</th>\n",
              "    </tr>\n",
              "  </thead>\n",
              "  <tbody>\n",
              "    <tr>\n",
              "      <th>0</th>\n",
              "      <td>irã liberta viúva condenada ao apedrejamento, ...</td>\n",
              "      <td>positivo</td>\n",
              "    </tr>\n",
              "    <tr>\n",
              "      <th>1</th>\n",
              "      <td>haiti sofre com cólera depois da passagem do f...</td>\n",
              "      <td>negativo</td>\n",
              "    </tr>\n",
              "    <tr>\n",
              "      <th>2</th>\n",
              "      <td>enchentes causam a morte de 4 pessoas em al: v...</td>\n",
              "      <td>negativo</td>\n",
              "    </tr>\n",
              "    <tr>\n",
              "      <th>3</th>\n",
              "      <td>sem detalhes do que será discutido, revisão do...</td>\n",
              "      <td>neutro</td>\n",
              "    </tr>\n",
              "    <tr>\n",
              "      <th>4</th>\n",
              "      <td>chávez apresenta neto de allende como companhe...</td>\n",
              "      <td>neutro</td>\n",
              "    </tr>\n",
              "    <tr>\n",
              "      <th>...</th>\n",
              "      <td>...</td>\n",
              "      <td>...</td>\n",
              "    </tr>\n",
              "    <tr>\n",
              "      <th>1742</th>\n",
              "      <td>crise econômica agrava situação dos direitos h...</td>\n",
              "      <td>negativo</td>\n",
              "    </tr>\n",
              "    <tr>\n",
              "      <th>1743</th>\n",
              "      <td>reforma tributária ‘é o frankenstein do franke...</td>\n",
              "      <td>negativo</td>\n",
              "    </tr>\n",
              "    <tr>\n",
              "      <th>1744</th>\n",
              "      <td>pernambuco tem apenas 2,5% da área original de...</td>\n",
              "      <td>negativo</td>\n",
              "    </tr>\n",
              "    <tr>\n",
              "      <th>1745</th>\n",
              "      <td>veja as principais notícias de abril: oms elev...</td>\n",
              "      <td>negativo</td>\n",
              "    </tr>\n",
              "    <tr>\n",
              "      <th>1746</th>\n",
              "      <td>aos 64 anos, noiva realiza sonho em casamento ...</td>\n",
              "      <td>positivo</td>\n",
              "    </tr>\n",
              "  </tbody>\n",
              "</table>\n",
              "<p>1747 rows × 2 columns</p>\n",
              "</div>"
            ],
            "text/plain": [
              "                                                  Texto    Classe\n",
              "0     irã liberta viúva condenada ao apedrejamento, ...  positivo\n",
              "1     haiti sofre com cólera depois da passagem do f...  negativo\n",
              "2     enchentes causam a morte de 4 pessoas em al: v...  negativo\n",
              "3     sem detalhes do que será discutido, revisão do...    neutro\n",
              "4     chávez apresenta neto de allende como companhe...    neutro\n",
              "...                                                 ...       ...\n",
              "1742  crise econômica agrava situação dos direitos h...  negativo\n",
              "1743  reforma tributária ‘é o frankenstein do franke...  negativo\n",
              "1744  pernambuco tem apenas 2,5% da área original de...  negativo\n",
              "1745  veja as principais notícias de abril: oms elev...  negativo\n",
              "1746  aos 64 anos, noiva realiza sonho em casamento ...  positivo\n",
              "\n",
              "[1747 rows x 2 columns]"
            ]
          },
          "metadata": {
            "tags": []
          },
          "execution_count": 4
        }
      ]
    },
    {
      "cell_type": "code",
      "metadata": {
        "id": "73sc-dE2cUK3",
        "colab": {
          "base_uri": "https://localhost:8080/"
        },
        "outputId": "ee08b879-ae59-43f4-a0e8-8e898f78381e"
      },
      "source": [
        "df = df.drop(df[df.Classe == 'surpresa'].index)\n",
        "\n",
        "classes = df['Classe']\n",
        "classes.unique()"
      ],
      "execution_count": 5,
      "outputs": [
        {
          "output_type": "execute_result",
          "data": {
            "text/plain": [
              "array(['positivo', 'negativo', 'neutro'], dtype=object)"
            ]
          },
          "metadata": {
            "tags": []
          },
          "execution_count": 5
        }
      ]
    },
    {
      "cell_type": "code",
      "metadata": {
        "id": "NWAhY17IPc8V",
        "colab": {
          "base_uri": "https://localhost:8080/"
        },
        "outputId": "98eac8d1-ed34-4148-9262-a5f8c96a690d"
      },
      "source": [
        "df.info()"
      ],
      "execution_count": 6,
      "outputs": [
        {
          "output_type": "stream",
          "text": [
            "<class 'pandas.core.frame.DataFrame'>\n",
            "Int64Index: 1747 entries, 0 to 1746\n",
            "Data columns (total 2 columns):\n",
            " #   Column  Non-Null Count  Dtype \n",
            "---  ------  --------------  ----- \n",
            " 0   Texto   1747 non-null   object\n",
            " 1   Classe  1747 non-null   object\n",
            "dtypes: object(2)\n",
            "memory usage: 40.9+ KB\n"
          ],
          "name": "stdout"
        }
      ]
    },
    {
      "cell_type": "markdown",
      "metadata": {
        "id": "z_-pZDRXlu22"
      },
      "source": [
        "#2) Plote a nova distribuição das classes."
      ]
    },
    {
      "cell_type": "code",
      "metadata": {
        "id": "_vqn2syqj6Kq",
        "colab": {
          "base_uri": "https://localhost:8080/",
          "height": 204
        },
        "outputId": "f17230cd-14e9-4dbf-e663-753b632ac254"
      },
      "source": [
        "grupos = df.groupby('Classe')\n",
        "grupos.describe()"
      ],
      "execution_count": 7,
      "outputs": [
        {
          "output_type": "execute_result",
          "data": {
            "text/html": [
              "<div>\n",
              "<style scoped>\n",
              "    .dataframe tbody tr th:only-of-type {\n",
              "        vertical-align: middle;\n",
              "    }\n",
              "\n",
              "    .dataframe tbody tr th {\n",
              "        vertical-align: top;\n",
              "    }\n",
              "\n",
              "    .dataframe thead tr th {\n",
              "        text-align: left;\n",
              "    }\n",
              "\n",
              "    .dataframe thead tr:last-of-type th {\n",
              "        text-align: right;\n",
              "    }\n",
              "</style>\n",
              "<table border=\"1\" class=\"dataframe\">\n",
              "  <thead>\n",
              "    <tr>\n",
              "      <th></th>\n",
              "      <th colspan=\"4\" halign=\"left\">Texto</th>\n",
              "    </tr>\n",
              "    <tr>\n",
              "      <th></th>\n",
              "      <th>count</th>\n",
              "      <th>unique</th>\n",
              "      <th>top</th>\n",
              "      <th>freq</th>\n",
              "    </tr>\n",
              "    <tr>\n",
              "      <th>Classe</th>\n",
              "      <th></th>\n",
              "      <th></th>\n",
              "      <th></th>\n",
              "      <th></th>\n",
              "    </tr>\n",
              "  </thead>\n",
              "  <tbody>\n",
              "    <tr>\n",
              "      <th>negativo</th>\n",
              "      <td>1021</td>\n",
              "      <td>1021</td>\n",
              "      <td>trabalhadores da limpeza pública podem entrar ...</td>\n",
              "      <td>1</td>\n",
              "    </tr>\n",
              "    <tr>\n",
              "      <th>neutro</th>\n",
              "      <td>542</td>\n",
              "      <td>542</td>\n",
              "      <td>atlético bate lanterna em lima e alcança líder...</td>\n",
              "      <td>1</td>\n",
              "    </tr>\n",
              "    <tr>\n",
              "      <th>positivo</th>\n",
              "      <td>184</td>\n",
              "      <td>184</td>\n",
              "      <td>irmãs se encontram após 72 anos graças ao face...</td>\n",
              "      <td>1</td>\n",
              "    </tr>\n",
              "  </tbody>\n",
              "</table>\n",
              "</div>"
            ],
            "text/plain": [
              "         Texto                                                               \n",
              "         count unique                                                top freq\n",
              "Classe                                                                       \n",
              "negativo  1021   1021  trabalhadores da limpeza pública podem entrar ...    1\n",
              "neutro     542    542  atlético bate lanterna em lima e alcança líder...    1\n",
              "positivo   184    184  irmãs se encontram após 72 anos graças ao face...    1"
            ]
          },
          "metadata": {
            "tags": []
          },
          "execution_count": 7
        }
      ]
    },
    {
      "cell_type": "code",
      "metadata": {
        "id": "NefkiCQ-FPaT",
        "colab": {
          "base_uri": "https://localhost:8080/",
          "height": 350
        },
        "outputId": "bd173751-8ac0-4150-9cea-115d37bdf0ab"
      },
      "source": [
        "sns.countplot(df.Classe)"
      ],
      "execution_count": 8,
      "outputs": [
        {
          "output_type": "stream",
          "text": [
            "/usr/local/lib/python3.7/dist-packages/seaborn/_decorators.py:43: FutureWarning: Pass the following variable as a keyword arg: x. From version 0.12, the only valid positional argument will be `data`, and passing other arguments without an explicit keyword will result in an error or misinterpretation.\n",
            "  FutureWarning\n"
          ],
          "name": "stderr"
        },
        {
          "output_type": "execute_result",
          "data": {
            "text/plain": [
              "<matplotlib.axes._subplots.AxesSubplot at 0x7efe65034750>"
            ]
          },
          "metadata": {
            "tags": []
          },
          "execution_count": 8
        },
        {
          "output_type": "display_data",
          "data": {
            "image/png": "[encoded data removed]",
            "text/plain": [
              "<Figure size 432x288 with 1 Axes>"
            ]
          },
          "metadata": {
            "tags": [],
            "needs_background": "light"
          }
        }
      ]
    },
    {
      "cell_type": "markdown",
      "metadata": {
        "id": "vSg2-33El1Qa"
      },
      "source": [
        "#3) Treine ao menos 3 classificadores que você achar mais apropriado para o problema:\n",
        "\n",
        "Utilize a validação cruzada com 10-folds."
      ]
    },
    {
      "cell_type": "code",
      "metadata": {
        "id": "si_Q-1SB71ko",
        "colab": {
          "base_uri": "https://localhost:8080/",
          "height": 204
        },
        "outputId": "52c4753b-b615-491c-dd4d-e71a7536d907"
      },
      "source": [
        "# Tokenização das palavras\n",
        "# palavras_tokenize = []\n",
        "contador = []\n",
        "vetores = []\n",
        "stop_words = set(stopwords.words('portuguese'))\n",
        "nlp = pt_core_news_sm.load()\n",
        "for index, row in df.iterrows():\n",
        "  palavras = tokenize.word_tokenize(row.Texto, language='portuguese')\n",
        "  palavras_tokenize = [word.lower() for word in palavras if word.isalpha() and word not in stop_words]\n",
        "\n",
        "  texto = \" \".join(palavras_tokenize)\n",
        "  doc = nlp(texto)\n",
        "\n",
        "  aux = \"\"\n",
        "\n",
        "  for token in doc:\n",
        "    aux += f\" {token.lemma_}\"\n",
        "\n",
        "  df.at[index, 'Texto_Atualizado'] = aux\n",
        "  vetores.append(nlp(aux).vector)\n",
        "\n",
        "  contador.append(Counter(palavras))\n",
        "\n",
        "df.head()"
      ],
      "execution_count": 9,
      "outputs": [
        {
          "output_type": "execute_result",
          "data": {
            "text/html": [
              "<div>\n",
              "<style scoped>\n",
              "    .dataframe tbody tr th:only-of-type {\n",
              "        vertical-align: middle;\n",
              "    }\n",
              "\n",
              "    .dataframe tbody tr th {\n",
              "        vertical-align: top;\n",
              "    }\n",
              "\n",
              "    .dataframe thead th {\n",
              "        text-align: right;\n",
              "    }\n",
              "</style>\n",
              "<table border=\"1\" class=\"dataframe\">\n",
              "  <thead>\n",
              "    <tr style=\"text-align: right;\">\n",
              "      <th></th>\n",
              "      <th>Texto</th>\n",
              "      <th>Classe</th>\n",
              "      <th>Texto_Atualizado</th>\n",
              "    </tr>\n",
              "  </thead>\n",
              "  <tbody>\n",
              "    <tr>\n",
              "      <th>0</th>\n",
              "      <td>irã liberta viúva condenada ao apedrejamento, ...</td>\n",
              "      <td>positivo</td>\n",
              "      <td>irã liberto viúvo condenar apedrejamento dize...</td>\n",
              "    </tr>\n",
              "    <tr>\n",
              "      <th>1</th>\n",
              "      <td>haiti sofre com cólera depois da passagem do f...</td>\n",
              "      <td>negativo</td>\n",
              "      <td>haiti sofrer cólera passagem furacão sandy ap...</td>\n",
              "    </tr>\n",
              "    <tr>\n",
              "      <th>2</th>\n",
              "      <td>enchentes causam a morte de 4 pessoas em al: v...</td>\n",
              "      <td>negativo</td>\n",
              "      <td>enchente causar morte pessoa al vítima mãe fi...</td>\n",
              "    </tr>\n",
              "    <tr>\n",
              "      <th>3</th>\n",
              "      <td>sem detalhes do que será discutido, revisão do...</td>\n",
              "      <td>neutro</td>\n",
              "      <td>detalhe discutir revisão planar diretor comed...</td>\n",
              "    </tr>\n",
              "    <tr>\n",
              "      <th>4</th>\n",
              "      <td>chávez apresenta neto de allende como companhe...</td>\n",
              "      <td>neutro</td>\n",
              "      <td>chávez apresentar neto allende companheiro fi...</td>\n",
              "    </tr>\n",
              "  </tbody>\n",
              "</table>\n",
              "</div>"
            ],
            "text/plain": [
              "                                               Texto  ...                                   Texto_Atualizado\n",
              "0  irã liberta viúva condenada ao apedrejamento, ...  ...   irã liberto viúvo condenar apedrejamento dize...\n",
              "1  haiti sofre com cólera depois da passagem do f...  ...   haiti sofrer cólera passagem furacão sandy ap...\n",
              "2  enchentes causam a morte de 4 pessoas em al: v...  ...   enchente causar morte pessoa al vítima mãe fi...\n",
              "3  sem detalhes do que será discutido, revisão do...  ...   detalhe discutir revisão planar diretor comed...\n",
              "4  chávez apresenta neto de allende como companhe...  ...   chávez apresentar neto allende companheiro fi...\n",
              "\n",
              "[5 rows x 3 columns]"
            ]
          },
          "metadata": {
            "tags": []
          },
          "execution_count": 9
        }
      ]
    },
    {
      "cell_type": "code",
      "metadata": {
        "id": "5DRPPBcPCE_o"
      },
      "source": [
        ""
      ],
      "execution_count": 9,
      "outputs": []
    },
    {
      "cell_type": "code",
      "metadata": {
        "id": "-ST6mBBW-_3g",
        "colab": {
          "base_uri": "https://localhost:8080/"
        },
        "outputId": "bb093a46-899e-4fd2-e60b-296244554492"
      },
      "source": [
        "vectorizer = CountVectorizer()\n",
        "vectors = vectorizer.fit_transform(df.Texto_Atualizado)\n",
        "vectors.shape"
      ],
      "execution_count": 10,
      "outputs": [
        {
          "output_type": "execute_result",
          "data": {
            "text/plain": [
              "(1747, 6249)"
            ]
          },
          "metadata": {
            "tags": []
          },
          "execution_count": 10
        }
      ]
    },
    {
      "cell_type": "code",
      "metadata": {
        "id": "vFP2GRBRBIzi"
      },
      "source": [
        "# Prepara as classes\n",
        "\n",
        "def prepare_targets(y_train, y_test):\n",
        "  le = LabelEncoder()\n",
        "  le.fit(y_train)\n",
        "  y_train_enc = le.transform(y_train)\n",
        "  y_test_enc = le.transform(y_test)\n",
        "  return y_train_enc, y_test_enc"
      ],
      "execution_count": 11,
      "outputs": []
    },
    {
      "cell_type": "code",
      "metadata": {
        "colab": {
          "base_uri": "https://localhost:8080/",
          "height": 421
        },
        "id": "wSb76oQLNlnl",
        "outputId": "dc0b31bd-64de-4add-97a7-619d7bac2a7e"
      },
      "source": [
        "# Usando técnica de overSampling para ajustar a quantidade de dados\n",
        "rus = RandomOverSampler()\n",
        "X_res, y_res = rus.fit_sample(vectors, df.Classe)\n",
        " \n",
        "# ver o balanceamento das classes\n",
        "print(pd.Series(y_res).value_counts())\n",
        " \n",
        "# plotar a nova distribuição de classes\n",
        "sns.countplot(y_res);"
      ],
      "execution_count": 12,
      "outputs": [
        {
          "output_type": "stream",
          "text": [
            "positivo    1021\n",
            "negativo    1021\n",
            "neutro      1021\n",
            "dtype: int64\n"
          ],
          "name": "stdout"
        },
        {
          "output_type": "stream",
          "text": [
            "/usr/local/lib/python3.7/dist-packages/sklearn/utils/deprecation.py:87: FutureWarning: Function safe_indexing is deprecated; safe_indexing is deprecated in version 0.22 and will be removed in version 0.24.\n",
            "  warnings.warn(msg, category=FutureWarning)\n",
            "/usr/local/lib/python3.7/dist-packages/seaborn/_decorators.py:43: FutureWarning: Pass the following variable as a keyword arg: x. From version 0.12, the only valid positional argument will be `data`, and passing other arguments without an explicit keyword will result in an error or misinterpretation.\n",
            "  FutureWarning\n"
          ],
          "name": "stderr"
        },
        {
          "output_type": "display_data",
          "data": {
            "image/png": "[encoded data removed]",
            "text/plain": [
              "<Figure size 432x288 with 1 Axes>"
            ]
          },
          "metadata": {
            "tags": [],
            "needs_background": "light"
          }
        }
      ]
    },
    {
      "cell_type": "code",
      "metadata": {
        "id": "he2zKTN0_uiu"
      },
      "source": [
        "# Separando os dados em Treinamento e Teste\n",
        "\n",
        "X_train, X_test, y_train, y_test = train_test_split(X_res, y_res, \n",
        "                                                    test_size=0.3, random_state=1)\n",
        "\n",
        "y_train, y_test = prepare_targets(y_train, y_test)\n",
        "\n",
        "# Para uso da Validação Cruzada\n",
        "\n",
        "folds=10\n",
        "y = np.concatenate([y_train, y_test])\n",
        "X = np.concatenate([X_train.toarray(), X_test.toarray()])"
      ],
      "execution_count": 13,
      "outputs": []
    },
    {
      "cell_type": "code",
      "metadata": {
        "id": "BwiJTP7iCvZ-",
        "colab": {
          "base_uri": "https://localhost:8080/"
        },
        "outputId": "fd291fe4-976e-408d-c1f0-47d47b38d7bf"
      },
      "source": [
        "# TREINANDO MODELO SVM\n",
        "# Prepara os dados de saída\n",
        "\n",
        "# Create the LinearSVC model\n",
        "clf_a = LinearSVC(random_state=1, dual=False)\n",
        "# Fit the model\n",
        "clf_a.fit(X_train, y_train)\n",
        "\n",
        "print(f'Model test accuracy: {clf_a.score(X_test, y_test)*100:.3f}%')\n",
        "\n",
        "# Avaliando o modelo\n",
        "yhat_a = clf_a.predict(X_test)\n",
        "\n",
        "# EXEMPLO USANDO VALIDAÇÃO CRUZADA\n",
        "res_a = LinearSVC(random_state=1, dual=False)\n",
        "\n",
        "result_a = model_selection.cross_val_score(res_a, X, y, cv=folds)\n",
        "print(\"\\nCross Validation Results %d folds:\" % folds)\n",
        "mean = result_a.mean()*100\n",
        "print(\"Mean Accuracy: %.3f\" % mean)\n",
        "print(\"Mean Std: %.3f\" % result_a.std())\n",
        "\n",
        "Z_a = model_selection.cross_val_predict(res_a, X, y, cv=folds)"
      ],
      "execution_count": 14,
      "outputs": [
        {
          "output_type": "stream",
          "text": [
            "Model test accuracy: 89.010%\n",
            "\n",
            "Cross Validation Results 10 folds:\n",
            "Mean Accuracy: 91.577\n",
            "Mean Std: 0.017\n"
          ],
          "name": "stdout"
        }
      ]
    },
    {
      "cell_type": "code",
      "metadata": {
        "id": "r9X9WNoSCknD",
        "colab": {
          "base_uri": "https://localhost:8080/"
        },
        "outputId": "d1b1ff11-3da3-4a39-aecf-483ae36b8688"
      },
      "source": [
        "# MODELO LOGISTIC REGRESSION\n",
        "\n",
        "# Declara o classificador\n",
        "clf_b = LogisticRegression()\n",
        "\n",
        "# Treina o classificador\n",
        "clf_b = clf_b.fit(X_train, y_train)\n",
        "print(f'Model test accuracy: {clf_b.score(X_test, y_test)*100:.3f}%')\n",
        "\n",
        "# Testa usando a base de testes\n",
        "yhat_b = clf_b.predict(X_test)\n",
        "\n",
        "# EXEMPLO USANDO VALIDAÇÃO CRUZADA\n",
        "res_b = LogisticRegression()\n",
        "\n",
        "Z_b = model_selection.cross_val_predict(res_b, X, y, cv=folds)\n",
        "\n",
        "result_b = model_selection.cross_val_score(res_b, X, y, cv=folds)\n",
        "print(\"\\nCross Validation Results %d folds:\" % folds)\n",
        "mean = result_b.mean()*100\n",
        "print(\"Mean Accuracy: %.3f\" % mean)\n",
        "print(\"Mean Std: %.3f\" % result_b.std())"
      ],
      "execution_count": 15,
      "outputs": [
        {
          "output_type": "stream",
          "text": [
            "Model test accuracy: 89.227%\n",
            "\n",
            "Cross Validation Results 10 folds:\n",
            "Mean Accuracy: 91.871\n",
            "Mean Std: 0.021\n"
          ],
          "name": "stdout"
        }
      ]
    },
    {
      "cell_type": "code",
      "metadata": {
        "colab": {
          "base_uri": "https://localhost:8080/"
        },
        "id": "aL41nYsKfNr9",
        "outputId": "1b408f7e-6777-40e6-bd84-c4dc62d676da"
      },
      "source": [
        "# MODELO NAIVE BAYES\n",
        "\n",
        "# Treina o classificador\n",
        "clf_c = GaussianNB()\n",
        "clf_c = clf_c.fit(X_train.toarray(), y_train)\n",
        "\n",
        "# Calcula a acurácia na base de teste\n",
        "score=clf_c.score(X_test.toarray(), y_test)\n",
        "print(f'Model test accuracy: {clf_c.score(X_test.toarray(), y_test)*100:.3f}%')\n",
        "\n",
        "# Testa usando a base de testes\n",
        "yhat_c = clf_c.predict(X_test.toarray())\n",
        "\n",
        "# EXEMPLO USANDO VALIDAÇÃO CRUZADA\n",
        "res_c = GaussianNB()\n",
        "\n",
        "Z_c = model_selection.cross_val_predict(res_c, X, y, cv=folds)\n",
        "\n",
        "result_c = model_selection.cross_val_score(res_c, X, y, cv=folds)\n",
        "print(\"\\nCross Validation Results %d folds:\" % folds)\n",
        "mean = result_c.mean()*100\n",
        "print(\"Mean Accuracy: %.3f\" % mean)\n",
        "print(\"Mean Std: %.3f\" % result_c.std())"
      ],
      "execution_count": 16,
      "outputs": [
        {
          "output_type": "stream",
          "text": [
            "Model test accuracy: 88.139%\n",
            "\n",
            "Cross Validation Results 10 folds:\n",
            "Mean Accuracy: 89.814\n",
            "Mean Std: 0.018\n"
          ],
          "name": "stdout"
        }
      ]
    },
    {
      "cell_type": "markdown",
      "metadata": {
        "id": "GUxxyBFyl7-r"
      },
      "source": [
        "# 4) Gere a matriz de confusão e calcule: cobertura, precisão e medida-f."
      ]
    },
    {
      "cell_type": "code",
      "metadata": {
        "colab": {
          "base_uri": "https://localhost:8080/"
        },
        "id": "ACFWQrZAfjD0",
        "outputId": "43d0dbb7-37a5-4dab-be94-0924ad945396"
      },
      "source": [
        "recall_a = recall_score(y, Z_a, average='weighted')\n",
        "recall_b = recall_score(y, Z_b, average='weighted')\n",
        "recall_c = recall_score(y, Z_c, average='weighted')\n",
        "\n",
        "print('Recall: %.3f' % recall_a)\n",
        "print('Recall: %.3f' % recall_b)\n",
        "print('Recall: %.3f' % recall_c)"
      ],
      "execution_count": 17,
      "outputs": [
        {
          "output_type": "stream",
          "text": [
            "Recall: 0.916\n",
            "Recall: 0.919\n",
            "Recall: 0.898\n"
          ],
          "name": "stdout"
        }
      ]
    },
    {
      "cell_type": "code",
      "metadata": {
        "colab": {
          "base_uri": "https://localhost:8080/"
        },
        "id": "_YeM_Gf4Xtq5",
        "outputId": "c77e6c8c-65bc-4452-bef1-7b142a567a63"
      },
      "source": [
        "precision_a = precision_score(y, Z_a, average='weighted')\n",
        "precision_b = precision_score(y, Z_b, average='weighted')\n",
        "precision_c = precision_score(y, Z_c, average='weighted')\n",
        "\n",
        "print('Precision: %.3f' % precision_a)\n",
        "print('Precision: %.3f' % precision_b)\n",
        "print('Precision: %.3f' % precision_c)"
      ],
      "execution_count": 18,
      "outputs": [
        {
          "output_type": "stream",
          "text": [
            "Precision: 0.915\n",
            "Precision: 0.919\n",
            "Precision: 0.900\n"
          ],
          "name": "stdout"
        }
      ]
    },
    {
      "cell_type": "code",
      "metadata": {
        "colab": {
          "base_uri": "https://localhost:8080/"
        },
        "id": "3BAdRBnSWWj7",
        "outputId": "b626d7d3-7d6e-4eee-f6ac-f5b311598782"
      },
      "source": [
        "\n",
        "score_a = f1_score(y, Z_a, average='weighted')\n",
        "score_b = f1_score(y, Z_b, average='weighted')\n",
        "score_c = f1_score(y, Z_c, average='weighted')\n",
        "\n",
        "print('F-Measure: %.3f' % score_a)\n",
        "print('F-Measure: %.3f' % score_b)\n",
        "print('F-Measure: %.3f' % score_c)"
      ],
      "execution_count": 19,
      "outputs": [
        {
          "output_type": "stream",
          "text": [
            "F-Measure: 0.915\n",
            "F-Measure: 0.918\n",
            "F-Measure: 0.897\n"
          ],
          "name": "stdout"
        }
      ]
    },
    {
      "cell_type": "markdown",
      "metadata": {
        "id": "Imr6hk_cmBTX"
      },
      "source": [
        "#5) Plote a matriz de confusão e imprima a cobertura, precisão e medida-f para cada classe."
      ]
    },
    {
      "cell_type": "code",
      "metadata": {
        "colab": {
          "base_uri": "https://localhost:8080/",
          "height": 280
        },
        "id": "EzrwCrDEWYMt",
        "outputId": "402617c4-84b5-47d9-d79e-27f7a8967821"
      },
      "source": [
        "confusion_matrix_1 = pd.crosstab(y_test, yhat_a, rownames=['Actual'], colnames=['Predicted'])\n",
        "confusion_matrix_2 = pd.crosstab(y, Z_a, rownames=['Actual'], colnames=['Predicted'])\n",
        "\n",
        "fig, ax =plt.subplots(1,2)\n",
        "sns.heatmap(confusion_matrix_1, annot=True, ax=ax[0], )\n",
        "sns.heatmap(confusion_matrix_2, annot=True, ax=ax[1] )\n",
        "\n",
        "fig.show()"
      ],
      "execution_count": 20,
      "outputs": [
        {
          "output_type": "display_data",
          "data": {
            "image/png": "[encoded data removed]",
            "text/plain": [
              "<Figure size 432x288 with 4 Axes>"
            ]
          },
          "metadata": {
            "tags": [],
            "needs_background": "light"
          }
        }
      ]
    },
    {
      "cell_type": "code",
      "metadata": {
        "colab": {
          "base_uri": "https://localhost:8080/",
          "height": 279
        },
        "id": "0pRDqxRvXz7P",
        "outputId": "eaed207e-966f-4c47-91b0-316f63f50f9b"
      },
      "source": [
        "confusion_matrix_1 = pd.crosstab(y_test, yhat_b, rownames=['Actual'], colnames=['Predicted'])\n",
        "confusion_matrix_2 = pd.crosstab(y, Z_b, rownames=['Actual'], colnames=['Predicted'])\n",
        "\n",
        "fig, ax =plt.subplots(1,2)\n",
        "sns.heatmap(confusion_matrix_1, annot=True, ax=ax[0])\n",
        "sns.heatmap(confusion_matrix_2, annot=True, ax=ax[1] )\n",
        "\n",
        "fig.show()"
      ],
      "execution_count": 21,
      "outputs": [
        {
          "output_type": "display_data",
          "data": {
            "image/png": "[encoded data removed]",
            "text/plain": [
              "<Figure size 432x288 with 4 Axes>"
            ]
          },
          "metadata": {
            "tags": [],
            "needs_background": "light"
          }
        }
      ]
    },
    {
      "cell_type": "code",
      "metadata": {
        "colab": {
          "base_uri": "https://localhost:8080/",
          "height": 280
        },
        "id": "kukzfj1rk7KX",
        "outputId": "4705b7e4-5f08-41a4-a7eb-52ad56a508f4"
      },
      "source": [
        "confusion_matrix_1 = pd.crosstab(y_test, yhat_c, rownames=['Actual'], colnames=['Predicted'])\n",
        "confusion_matrix_2 = pd.crosstab(y, Z_c, rownames=['Actual'], colnames=['Predicted'])\n",
        "\n",
        "fig, ax =plt.subplots(1,2)\n",
        "sns.heatmap(confusion_matrix_1, annot=True, ax=ax[0])\n",
        "sns.heatmap(confusion_matrix_2, annot=True, ax=ax[1] )\n",
        "\n",
        "fig.show()"
      ],
      "execution_count": 22,
      "outputs": [
        {
          "output_type": "display_data",
          "data": {
            "image/png": "[encoded data removed]",
            "text/plain": [
              "<Figure size 432x288 with 4 Axes>"
            ]
          },
          "metadata": {
            "tags": [],
            "needs_background": "light"
          }
        }
      ]
    },
    {
      "cell_type": "code",
      "metadata": {
        "colab": {
          "base_uri": "https://localhost:8080/"
        },
        "id": "JviYBdVsfQqS",
        "outputId": "239c1ae8-a3c1-49fc-8671-81342e6f467c"
      },
      "source": [
        "recall_classe_a = recall_score(y, Z_a, average=None)\n",
        "print(recall_classe_a)\n",
        "\n",
        "recall_classe_b = recall_score(y, Z_b, average=None)\n",
        "print(recall_classe_b)\n",
        "\n",
        "recall_classe_c = recall_score(y, Z_c, average=None)\n",
        "print(recall_classe_c)"
      ],
      "execution_count": 23,
      "outputs": [
        {
          "output_type": "stream",
          "text": [
            "[0.85504407 0.89618022 0.99608227]\n",
            "[0.85112635 0.90695397 0.99804114]\n",
            "[0.791381   0.90891283 0.99412341]\n"
          ],
          "name": "stdout"
        }
      ]
    },
    {
      "cell_type": "code",
      "metadata": {
        "colab": {
          "base_uri": "https://localhost:8080/"
        },
        "id": "n7oD86pycIWa",
        "outputId": "a16e6209-379f-4542-9970-8e0a36837f99"
      },
      "source": [
        "precision_classe_a = precision_score(y, Z_a, average=None)\n",
        "print(precision_classe_a)\n",
        "\n",
        "precision_classe_b = precision_score(y, Z_b, average=None)\n",
        "print(precision_classe_b)\n",
        "\n",
        "precision_classe_c = precision_score(y, Z_c, average=None)\n",
        "print(precision_classe_c)"
      ],
      "execution_count": 24,
      "outputs": [
        {
          "output_type": "stream",
          "text": [
            "[0.91222571 0.87896254 0.95492958]\n",
            "[0.92250531 0.88443171 0.94878957]\n",
            "[0.90888639 0.82488889 0.96758818]\n"
          ],
          "name": "stdout"
        }
      ]
    },
    {
      "cell_type": "code",
      "metadata": {
        "colab": {
          "base_uri": "https://localhost:8080/"
        },
        "id": "JDL3HA0DcIY0",
        "outputId": "30652c83-971c-4886-e0ba-d51c266c91fd"
      },
      "source": [
        "score_classe_a = f1_score(y, Z_a, average=None)\n",
        "print(score_classe_a)\n",
        "\n",
        "score_classe_b = f1_score(y, Z_b, average=None)\n",
        "print(score_classe_b)\n",
        "\n",
        "score_classe_c = f1_score(y, Z_c, average=None)\n",
        "print(score_classe_c)"
      ],
      "execution_count": 25,
      "outputs": [
        {
          "output_type": "stream",
          "text": [
            "[0.88270981 0.88748788 0.97507191]\n",
            "[0.88537952 0.89555126 0.97279236]\n",
            "[0.8460733  0.86486486 0.98067633]\n"
          ],
          "name": "stdout"
        }
      ]
    }
  ]
}