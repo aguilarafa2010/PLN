{
  "nbformat": 4,
  "nbformat_minor": 0,
  "metadata": {
    "colab": {
      "name": "Trabalho Final PLN",
      "provenance": [],
      "authorship_tag": "ABX9TyOeuG208ga7LH4DM97b9NG0",
      "include_colab_link": true
    },
    "kernelspec": {
      "display_name": "Python 3",
      "name": "python3"
    },
    "language_info": {
      "name": "python"
    },
    "accelerator": "GPU"
  },
  "cells": [
    {
      "cell_type": "markdown",
      "metadata": {
        "id": "view-in-github",
        "colab_type": "text"
      },
      "source": [
        "<a href=\"https://colab.research.google.com/github/aguilarafa2010/PLN/blob/main/Trabalho_Final_PLN.ipynb\" target=\"_parent\"><img src=\"https://colab.research.google.com/assets/colab-badge.svg\" alt=\"Open In Colab\"/></a>"
      ]
    },
    {
      "cell_type": "code",
      "metadata": {
        "id": "ZL-GzmuaCSHz",
        "colab": {
          "base_uri": "https://localhost:8080/"
        },
        "outputId": "09d1d63c-78d1-4d87-e229-e269f00b4060"
      },
      "source": [
        "# Bibliotecas\n",
        "\n",
        "import pandas as pd\n",
        "import numpy as np\n",
        "\n",
        "import nltk\n",
        "from nltk import tokenize\n",
        "nltk.download('punkt')\n",
        "nltk.download('wordnet')\n",
        "nltk.download('stopwords')\n",
        "\n",
        "from nltk.stem.wordnet import WordNetLemmatizer\n",
        "from nltk.corpus import stopwords\n",
        "\n",
        "from collections import Counter\n",
        "\n",
        "from sklearn.feature_extraction.text import CountVectorizer\n",
        "from sklearn.metrics import f1_score\n",
        "from sklearn.metrics import precision_score\n",
        "from sklearn.metrics import recall_score\n",
        "\n",
        "import matplotlib.pyplot as plt\n",
        "import seaborn as sns\n",
        "\n",
        "from sklearn.linear_model import LogisticRegression\n",
        "from sklearn.svm import LinearSVC\n",
        "from sklearn.naive_bayes import GaussianNB\n",
        "\n",
        "from sklearn.metrics import accuracy_score\n",
        "from sklearn.metrics import confusion_matrix\n",
        "from sklearn.model_selection import train_test_split\n",
        "from sklearn.preprocessing import LabelEncoder\n",
        "\n",
        "plt.rcParams[\"figure.figsize\"] = [15,10]\n",
        "sns.set_style(\"darkgrid\")\n",
        "\n",
        "\n",
        "!conda install -c conda-forge spacy\n",
        "!python -m spacy download pt_core_news_sm\n",
        "\n",
        "import pt_core_news_sm"
      ],
      "execution_count": 48,
      "outputs": [
        {
          "output_type": "stream",
          "text": [
            "[nltk_data] Downloading package punkt to /root/nltk_data...\n",
            "[nltk_data]   Package punkt is already up-to-date!\n",
            "[nltk_data] Downloading package wordnet to /root/nltk_data...\n",
            "[nltk_data]   Package wordnet is already up-to-date!\n",
            "[nltk_data] Downloading package stopwords to /root/nltk_data...\n",
            "[nltk_data]   Package stopwords is already up-to-date!\n",
            "/bin/bash: conda: command not found\n",
            "Collecting pt_core_news_sm==2.2.5\n",
            "  Downloading https://github.com/explosion/spacy-models/releases/download/pt_core_news_sm-2.2.5/pt_core_news_sm-2.2.5.tar.gz (21.2 MB)\n",
            "\u001b[K     |████████████████████████████████| 21.2 MB 1.3 MB/s \n",
            "\u001b[?25hRequirement already satisfied: spacy>=2.2.2 in /usr/local/lib/python3.7/dist-packages (from pt_core_news_sm==2.2.5) (2.2.4)\n",
            "Requirement already satisfied: cymem<2.1.0,>=2.0.2 in /usr/local/lib/python3.7/dist-packages (from spacy>=2.2.2->pt_core_news_sm==2.2.5) (2.0.5)\n",
            "Requirement already satisfied: murmurhash<1.1.0,>=0.28.0 in /usr/local/lib/python3.7/dist-packages (from spacy>=2.2.2->pt_core_news_sm==2.2.5) (1.0.5)\n",
            "Requirement already satisfied: wasabi<1.1.0,>=0.4.0 in /usr/local/lib/python3.7/dist-packages (from spacy>=2.2.2->pt_core_news_sm==2.2.5) (0.8.2)\n",
            "Requirement already satisfied: srsly<1.1.0,>=1.0.2 in /usr/local/lib/python3.7/dist-packages (from spacy>=2.2.2->pt_core_news_sm==2.2.5) (1.0.5)\n",
            "Requirement already satisfied: thinc==7.4.0 in /usr/local/lib/python3.7/dist-packages (from spacy>=2.2.2->pt_core_news_sm==2.2.5) (7.4.0)\n",
            "Requirement already satisfied: plac<1.2.0,>=0.9.6 in /usr/local/lib/python3.7/dist-packages (from spacy>=2.2.2->pt_core_news_sm==2.2.5) (1.1.3)\n",
            "Requirement already satisfied: blis<0.5.0,>=0.4.0 in /usr/local/lib/python3.7/dist-packages (from spacy>=2.2.2->pt_core_news_sm==2.2.5) (0.4.1)\n",
            "Requirement already satisfied: requests<3.0.0,>=2.13.0 in /usr/local/lib/python3.7/dist-packages (from spacy>=2.2.2->pt_core_news_sm==2.2.5) (2.23.0)\n",
            "Requirement already satisfied: setuptools in /usr/local/lib/python3.7/dist-packages (from spacy>=2.2.2->pt_core_news_sm==2.2.5) (57.2.0)\n",
            "Requirement already satisfied: numpy>=1.15.0 in /usr/local/lib/python3.7/dist-packages (from spacy>=2.2.2->pt_core_news_sm==2.2.5) (1.19.5)\n",
            "Requirement already satisfied: tqdm<5.0.0,>=4.38.0 in /usr/local/lib/python3.7/dist-packages (from spacy>=2.2.2->pt_core_news_sm==2.2.5) (4.41.1)\n",
            "Requirement already satisfied: catalogue<1.1.0,>=0.0.7 in /usr/local/lib/python3.7/dist-packages (from spacy>=2.2.2->pt_core_news_sm==2.2.5) (1.0.0)\n",
            "Requirement already satisfied: preshed<3.1.0,>=3.0.2 in /usr/local/lib/python3.7/dist-packages (from spacy>=2.2.2->pt_core_news_sm==2.2.5) (3.0.5)\n",
            "Requirement already satisfied: importlib-metadata>=0.20 in /usr/local/lib/python3.7/dist-packages (from catalogue<1.1.0,>=0.0.7->spacy>=2.2.2->pt_core_news_sm==2.2.5) (4.6.1)\n",
            "Requirement already satisfied: typing-extensions>=3.6.4 in /usr/local/lib/python3.7/dist-packages (from importlib-metadata>=0.20->catalogue<1.1.0,>=0.0.7->spacy>=2.2.2->pt_core_news_sm==2.2.5) (3.7.4.3)\n",
            "Requirement already satisfied: zipp>=0.5 in /usr/local/lib/python3.7/dist-packages (from importlib-metadata>=0.20->catalogue<1.1.0,>=0.0.7->spacy>=2.2.2->pt_core_news_sm==2.2.5) (3.5.0)\n",
            "Requirement already satisfied: chardet<4,>=3.0.2 in /usr/local/lib/python3.7/dist-packages (from requests<3.0.0,>=2.13.0->spacy>=2.2.2->pt_core_news_sm==2.2.5) (3.0.4)\n",
            "Requirement already satisfied: urllib3!=1.25.0,!=1.25.1,<1.26,>=1.21.1 in /usr/local/lib/python3.7/dist-packages (from requests<3.0.0,>=2.13.0->spacy>=2.2.2->pt_core_news_sm==2.2.5) (1.24.3)\n",
            "Requirement already satisfied: idna<3,>=2.5 in /usr/local/lib/python3.7/dist-packages (from requests<3.0.0,>=2.13.0->spacy>=2.2.2->pt_core_news_sm==2.2.5) (2.10)\n",
            "Requirement already satisfied: certifi>=2017.4.17 in /usr/local/lib/python3.7/dist-packages (from requests<3.0.0,>=2.13.0->spacy>=2.2.2->pt_core_news_sm==2.2.5) (2021.5.30)\n",
            "\u001b[38;5;2m✔ Download and installation successful\u001b[0m\n",
            "You can now load the model via spacy.load('pt_core_news_sm')\n"
          ],
          "name": "stdout"
        }
      ]
    },
    {
      "cell_type": "code",
      "metadata": {
        "id": "_g2URDFXDmeN"
      },
      "source": [
        "# Leitura do arquivo\n",
        "f = open(\"/content/sample_data/2000_Textos_Novo.txt\",\"r\")"
      ],
      "execution_count": 2,
      "outputs": []
    },
    {
      "cell_type": "markdown",
      "metadata": {
        "id": "tW7McQgSlh6k"
      },
      "source": [
        "#1) Criar um corpus com as instâncias de 2000_textos.txt, seguindo a seguinte estratégia:\n",
        "O novo corpus terá instâncias rotuladas com uma das 3 classes\n",
        "possíveis:\n",
        "- classe “positivo”: instâncias da base original rotuladas como “alegria”;\n",
        "- classe “negativo”: instâncias rotuladas como “raiva”, “medo”,\n",
        "“desgosto” e “tristeza”;\n",
        "- classe “neutro”: instâncias da base original rotuladas como “neutro”.\n",
        "As instâncias rotuladas como “surpresa” não serão utilizadas neste\n",
        "novo corpus. "
      ]
    },
    {
      "cell_type": "code",
      "metadata": {
        "id": "o-FAuY3wYIBK"
      },
      "source": [
        "# Métodos e funções\n",
        "\n",
        "def mudaClasse(x):\n",
        "  if 'alegria' in x[1]:\n",
        "    x[1] = 'positivo'\n",
        "  elif 'neutro' in x[1]:\n",
        "    x[1] = 'neutro'\n",
        "  elif 'surpresa' in x[1]:\n",
        "    x[1] = 'surpresa'\n",
        "  elif 'raiva' in x[1] or 'tristeza' in x[1] or 'medo' in x[1] or 'desgosto' in x[1]:\n",
        "    x[1] = 'negativo'\n",
        "\n",
        "  return x"
      ],
      "execution_count": 3,
      "outputs": []
    },
    {
      "cell_type": "code",
      "metadata": {
        "id": "UuRv7WV6H0Ii",
        "colab": {
          "base_uri": "https://localhost:8080/",
          "height": 419
        },
        "outputId": "b700842b-708c-420c-972b-8ff77e4ce2b4"
      },
      "source": [
        "arquivo = []\n",
        "for i in f:\n",
        "  aux = i.split(';')\n",
        "  arquivo.append([aux[2],aux[0]])\n",
        "\n",
        "arquivo = [mudaClasse(x) for x in arquivo]\n",
        "\n",
        "df = pd.DataFrame(arquivo)\n",
        "df.columns = ['Texto', 'Classe']\n",
        "df"
      ],
      "execution_count": 4,
      "outputs": [
        {
          "output_type": "execute_result",
          "data": {
            "text/html": [
              "<div>\n",
              "<style scoped>\n",
              "    .dataframe tbody tr th:only-of-type {\n",
              "        vertical-align: middle;\n",
              "    }\n",
              "\n",
              "    .dataframe tbody tr th {\n",
              "        vertical-align: top;\n",
              "    }\n",
              "\n",
              "    .dataframe thead th {\n",
              "        text-align: right;\n",
              "    }\n",
              "</style>\n",
              "<table border=\"1\" class=\"dataframe\">\n",
              "  <thead>\n",
              "    <tr style=\"text-align: right;\">\n",
              "      <th></th>\n",
              "      <th>Texto</th>\n",
              "      <th>Classe</th>\n",
              "    </tr>\n",
              "  </thead>\n",
              "  <tbody>\n",
              "    <tr>\n",
              "      <th>0</th>\n",
              "      <td>irã liberta viúva condenada ao apedrejamento, ...</td>\n",
              "      <td>positivo</td>\n",
              "    </tr>\n",
              "    <tr>\n",
              "      <th>1</th>\n",
              "      <td>haiti sofre com cólera depois da passagem do f...</td>\n",
              "      <td>negativo</td>\n",
              "    </tr>\n",
              "    <tr>\n",
              "      <th>2</th>\n",
              "      <td>mulher acorda e encontra crocodilo de 3 m e 27...</td>\n",
              "      <td>surpresa</td>\n",
              "    </tr>\n",
              "    <tr>\n",
              "      <th>3</th>\n",
              "      <td>enchentes causam a morte de 4 pessoas em al: v...</td>\n",
              "      <td>negativo</td>\n",
              "    </tr>\n",
              "    <tr>\n",
              "      <th>4</th>\n",
              "      <td>sem detalhes do que será discutido, revisão do...</td>\n",
              "      <td>neutro</td>\n",
              "    </tr>\n",
              "    <tr>\n",
              "      <th>...</th>\n",
              "      <td>...</td>\n",
              "      <td>...</td>\n",
              "    </tr>\n",
              "    <tr>\n",
              "      <th>1994</th>\n",
              "      <td>crise econômica agrava situação dos direitos h...</td>\n",
              "      <td>negativo</td>\n",
              "    </tr>\n",
              "    <tr>\n",
              "      <th>1995</th>\n",
              "      <td>reforma tributária ‘é o frankenstein do franke...</td>\n",
              "      <td>negativo</td>\n",
              "    </tr>\n",
              "    <tr>\n",
              "      <th>1996</th>\n",
              "      <td>pernambuco tem apenas 2,5% da área original de...</td>\n",
              "      <td>negativo</td>\n",
              "    </tr>\n",
              "    <tr>\n",
              "      <th>1997</th>\n",
              "      <td>veja as principais notícias de abril: oms elev...</td>\n",
              "      <td>negativo</td>\n",
              "    </tr>\n",
              "    <tr>\n",
              "      <th>1998</th>\n",
              "      <td>aos 64 anos, noiva realiza sonho em casamento ...</td>\n",
              "      <td>positivo</td>\n",
              "    </tr>\n",
              "  </tbody>\n",
              "</table>\n",
              "<p>1999 rows × 2 columns</p>\n",
              "</div>"
            ],
            "text/plain": [
              "                                                  Texto    Classe\n",
              "0     irã liberta viúva condenada ao apedrejamento, ...  positivo\n",
              "1     haiti sofre com cólera depois da passagem do f...  negativo\n",
              "2     mulher acorda e encontra crocodilo de 3 m e 27...  surpresa\n",
              "3     enchentes causam a morte de 4 pessoas em al: v...  negativo\n",
              "4     sem detalhes do que será discutido, revisão do...    neutro\n",
              "...                                                 ...       ...\n",
              "1994  crise econômica agrava situação dos direitos h...  negativo\n",
              "1995  reforma tributária ‘é o frankenstein do franke...  negativo\n",
              "1996  pernambuco tem apenas 2,5% da área original de...  negativo\n",
              "1997  veja as principais notícias de abril: oms elev...  negativo\n",
              "1998  aos 64 anos, noiva realiza sonho em casamento ...  positivo\n",
              "\n",
              "[1999 rows x 2 columns]"
            ]
          },
          "metadata": {
            "tags": []
          },
          "execution_count": 4
        }
      ]
    },
    {
      "cell_type": "code",
      "metadata": {
        "id": "73sc-dE2cUK3",
        "colab": {
          "base_uri": "https://localhost:8080/"
        },
        "outputId": "83be3235-0314-4aa7-c49d-8cc3c4074fea"
      },
      "source": [
        "df = df.drop(df[df.Classe == 'surpresa'].index)\n",
        "\n",
        "classes = df['Classe']\n",
        "classes.unique()"
      ],
      "execution_count": 5,
      "outputs": [
        {
          "output_type": "execute_result",
          "data": {
            "text/plain": [
              "array(['positivo', 'negativo', 'neutro'], dtype=object)"
            ]
          },
          "metadata": {
            "tags": []
          },
          "execution_count": 5
        }
      ]
    },
    {
      "cell_type": "markdown",
      "metadata": {
        "id": "z_-pZDRXlu22"
      },
      "source": [
        "#2) Plote a nova distribuição das classes."
      ]
    },
    {
      "cell_type": "code",
      "metadata": {
        "id": "_vqn2syqj6Kq",
        "colab": {
          "base_uri": "https://localhost:8080/",
          "height": 204
        },
        "outputId": "a9364b34-34b6-4cf8-9959-4395253f53e5"
      },
      "source": [
        "grupos = df.groupby('Classe')\n",
        "grupos.describe()"
      ],
      "execution_count": 6,
      "outputs": [
        {
          "output_type": "execute_result",
          "data": {
            "text/html": [
              "<div>\n",
              "<style scoped>\n",
              "    .dataframe tbody tr th:only-of-type {\n",
              "        vertical-align: middle;\n",
              "    }\n",
              "\n",
              "    .dataframe tbody tr th {\n",
              "        vertical-align: top;\n",
              "    }\n",
              "\n",
              "    .dataframe thead tr th {\n",
              "        text-align: left;\n",
              "    }\n",
              "\n",
              "    .dataframe thead tr:last-of-type th {\n",
              "        text-align: right;\n",
              "    }\n",
              "</style>\n",
              "<table border=\"1\" class=\"dataframe\">\n",
              "  <thead>\n",
              "    <tr>\n",
              "      <th></th>\n",
              "      <th colspan=\"4\" halign=\"left\">Texto</th>\n",
              "    </tr>\n",
              "    <tr>\n",
              "      <th></th>\n",
              "      <th>count</th>\n",
              "      <th>unique</th>\n",
              "      <th>top</th>\n",
              "      <th>freq</th>\n",
              "    </tr>\n",
              "    <tr>\n",
              "      <th>Classe</th>\n",
              "      <th></th>\n",
              "      <th></th>\n",
              "      <th></th>\n",
              "      <th></th>\n",
              "    </tr>\n",
              "  </thead>\n",
              "  <tbody>\n",
              "    <tr>\n",
              "      <th>negativo</th>\n",
              "      <td>1021</td>\n",
              "      <td>1021</td>\n",
              "      <td>familiares de tripulação do voo mh370 criticam...</td>\n",
              "      <td>1</td>\n",
              "    </tr>\n",
              "    <tr>\n",
              "      <th>neutro</th>\n",
              "      <td>542</td>\n",
              "      <td>542</td>\n",
              "      <td>definição sobre candidatura de ciro ao governo...</td>\n",
              "      <td>1</td>\n",
              "    </tr>\n",
              "    <tr>\n",
              "      <th>positivo</th>\n",
              "      <td>184</td>\n",
              "      <td>184</td>\n",
              "      <td>leão resgatado de circo em ms ganha nova casa:...</td>\n",
              "      <td>1</td>\n",
              "    </tr>\n",
              "  </tbody>\n",
              "</table>\n",
              "</div>"
            ],
            "text/plain": [
              "         Texto                                                               \n",
              "         count unique                                                top freq\n",
              "Classe                                                                       \n",
              "negativo  1021   1021  familiares de tripulação do voo mh370 criticam...    1\n",
              "neutro     542    542  definição sobre candidatura de ciro ao governo...    1\n",
              "positivo   184    184  leão resgatado de circo em ms ganha nova casa:...    1"
            ]
          },
          "metadata": {
            "tags": []
          },
          "execution_count": 6
        }
      ]
    },
    {
      "cell_type": "code",
      "metadata": {
        "id": "NefkiCQ-FPaT",
        "colab": {
          "base_uri": "https://localhost:8080/",
          "height": 350
        },
        "outputId": "0a7b2395-e214-4ea8-f386-3adb86ecf570"
      },
      "source": [
        "sns.countplot(df.Classe)"
      ],
      "execution_count": 7,
      "outputs": [
        {
          "output_type": "stream",
          "text": [
            "/usr/local/lib/python3.7/dist-packages/seaborn/_decorators.py:43: FutureWarning: Pass the following variable as a keyword arg: x. From version 0.12, the only valid positional argument will be `data`, and passing other arguments without an explicit keyword will result in an error or misinterpretation.\n",
            "  FutureWarning\n"
          ],
          "name": "stderr"
        },
        {
          "output_type": "execute_result",
          "data": {
            "text/plain": [
              "<matplotlib.axes._subplots.AxesSubplot at 0x7f7f14f046d0>"
            ]
          },
          "metadata": {
            "tags": []
          },
          "execution_count": 7
        },
        {
          "output_type": "display_data",
          "data": {
            "image/png": "[encoded data removed]",
            "text/plain": [
              "<Figure size 432x288 with 1 Axes>"
            ]
          },
          "metadata": {
            "tags": [],
            "needs_background": "light"
          }
        }
      ]
    },
    {
      "cell_type": "markdown",
      "metadata": {
        "id": "vSg2-33El1Qa"
      },
      "source": [
        "#3) Treine ao menos 3 classificadores que você achar mais apropriado para o problema:\n",
        "\n",
        "Utilize a validação cruzada com 10-folds."
      ]
    },
    {
      "cell_type": "code",
      "metadata": {
        "id": "si_Q-1SB71ko",
        "colab": {
          "base_uri": "https://localhost:8080/",
          "height": 204
        },
        "outputId": "e339e6a6-4e5d-4770-88a6-2e8173093e50"
      },
      "source": [
        "# Tokenização das palavras\n",
        "\n",
        "contador = []\n",
        "\n",
        "stop_words = set(stopwords.words('portuguese'))\n",
        "nlp = pt_core_news_sm.load()\n",
        "for index, row in df.iterrows():\n",
        "  palavras = tokenize.word_tokenize(row.Texto, language='portuguese')\n",
        "  palavras_tokenize = [word.lower() for word in palavras if word.isalpha() and word not in stop_words]\n",
        "\n",
        "  texto = \" \".join(palavras_tokenize)  \n",
        "  doc = nlp(texto)\n",
        "\n",
        "  aux = \"\"\n",
        "\n",
        "  for token in doc:\n",
        "    aux += f\" {token.lemma_}\"\n",
        "\n",
        "  df.at[index, 'Texto_Atualizado'] = aux\n",
        "\n",
        "  contador.append(Counter(palavras))\n",
        "\n",
        "df.head()"
      ],
      "execution_count": 8,
      "outputs": [
        {
          "output_type": "execute_result",
          "data": {
            "text/html": [
              "<div>\n",
              "<style scoped>\n",
              "    .dataframe tbody tr th:only-of-type {\n",
              "        vertical-align: middle;\n",
              "    }\n",
              "\n",
              "    .dataframe tbody tr th {\n",
              "        vertical-align: top;\n",
              "    }\n",
              "\n",
              "    .dataframe thead th {\n",
              "        text-align: right;\n",
              "    }\n",
              "</style>\n",
              "<table border=\"1\" class=\"dataframe\">\n",
              "  <thead>\n",
              "    <tr style=\"text-align: right;\">\n",
              "      <th></th>\n",
              "      <th>Texto</th>\n",
              "      <th>Classe</th>\n",
              "      <th>Texto_Atualizado</th>\n",
              "    </tr>\n",
              "  </thead>\n",
              "  <tbody>\n",
              "    <tr>\n",
              "      <th>0</th>\n",
              "      <td>irã liberta viúva condenada ao apedrejamento, ...</td>\n",
              "      <td>positivo</td>\n",
              "      <td>irã liberto viúvo condenar apedrejamento dize...</td>\n",
              "    </tr>\n",
              "    <tr>\n",
              "      <th>1</th>\n",
              "      <td>haiti sofre com cólera depois da passagem do f...</td>\n",
              "      <td>negativo</td>\n",
              "      <td>haiti sofrer cólera passagem furacão sandy ap...</td>\n",
              "    </tr>\n",
              "    <tr>\n",
              "      <th>3</th>\n",
              "      <td>enchentes causam a morte de 4 pessoas em al: v...</td>\n",
              "      <td>negativo</td>\n",
              "      <td>enchente causar morte pessoa al vítima mãe fi...</td>\n",
              "    </tr>\n",
              "    <tr>\n",
              "      <th>4</th>\n",
              "      <td>sem detalhes do que será discutido, revisão do...</td>\n",
              "      <td>neutro</td>\n",
              "      <td>detalhe discutir revisão planar diretor comed...</td>\n",
              "    </tr>\n",
              "    <tr>\n",
              "      <th>5</th>\n",
              "      <td>chávez apresenta neto de allende como companhe...</td>\n",
              "      <td>neutro</td>\n",
              "      <td>chávez apresentar neto allende companheiro fi...</td>\n",
              "    </tr>\n",
              "  </tbody>\n",
              "</table>\n",
              "</div>"
            ],
            "text/plain": [
              "                                               Texto  ...                                   Texto_Atualizado\n",
              "0  irã liberta viúva condenada ao apedrejamento, ...  ...   irã liberto viúvo condenar apedrejamento dize...\n",
              "1  haiti sofre com cólera depois da passagem do f...  ...   haiti sofrer cólera passagem furacão sandy ap...\n",
              "3  enchentes causam a morte de 4 pessoas em al: v...  ...   enchente causar morte pessoa al vítima mãe fi...\n",
              "4  sem detalhes do que será discutido, revisão do...  ...   detalhe discutir revisão planar diretor comed...\n",
              "5  chávez apresenta neto de allende como companhe...  ...   chávez apresentar neto allende companheiro fi...\n",
              "\n",
              "[5 rows x 3 columns]"
            ]
          },
          "metadata": {
            "tags": []
          },
          "execution_count": 8
        }
      ]
    },
    {
      "cell_type": "code",
      "metadata": {
        "id": "-ST6mBBW-_3g",
        "colab": {
          "base_uri": "https://localhost:8080/"
        },
        "outputId": "6719860d-6080-4560-eb7e-c227556a80e1"
      },
      "source": [
        "vectorizer = CountVectorizer()\n",
        "vectors = vectorizer.fit_transform(df.Texto_Atualizado)\n",
        "vectors.shape"
      ],
      "execution_count": 9,
      "outputs": [
        {
          "output_type": "execute_result",
          "data": {
            "text/plain": [
              "(1747, 6248)"
            ]
          },
          "metadata": {
            "tags": []
          },
          "execution_count": 9
        }
      ]
    },
    {
      "cell_type": "code",
      "metadata": {
        "id": "vFP2GRBRBIzi"
      },
      "source": [
        "# Prepara as classes\n",
        "\n",
        "def prepare_targets(y_train, y_test):\n",
        "  le = LabelEncoder()\n",
        "  le.fit(y_train)\n",
        "  y_train_enc = le.transform(y_train)\n",
        "  y_test_enc = le.transform(y_test)\n",
        "  return y_train_enc, y_test_enc"
      ],
      "execution_count": 10,
      "outputs": []
    },
    {
      "cell_type": "code",
      "metadata": {
        "id": "he2zKTN0_uiu"
      },
      "source": [
        "# Separando os dados em Treinamento e Teste\n",
        "\n",
        "X_train, X_test, y_train, y_test = train_test_split(vectors, df.Classe, \n",
        "                                                    test_size=0.1, random_state=1)\n",
        "\n",
        "y_train, y_test = prepare_targets(y_train, y_test)"
      ],
      "execution_count": 58,
      "outputs": []
    },
    {
      "cell_type": "code",
      "metadata": {
        "id": "BwiJTP7iCvZ-",
        "colab": {
          "base_uri": "https://localhost:8080/"
        },
        "outputId": "ce3e8992-8b0c-4728-bf0c-a19d966cce30"
      },
      "source": [
        "# TREINANDO MODELO SVM\n",
        "# Prepara os dados de saída\n",
        "\n",
        "# Create the LinearSVC model\n",
        "clf_a = LinearSVC(random_state=1, dual=False)\n",
        "# Fit the model\n",
        "clf_a.fit(X_train, y_train)\n",
        "\n",
        "print(f'Model test accuracy: {clf_a.score(X_test, y_test)*100:.3f}%')\n",
        "\n",
        "# Avaliando o modelo\n",
        "yhat_a = clf_a.predict(X_test)"
      ],
      "execution_count": 12,
      "outputs": [
        {
          "output_type": "stream",
          "text": [
            "Model test accuracy: 74.857%\n"
          ],
          "name": "stdout"
        }
      ]
    },
    {
      "cell_type": "code",
      "metadata": {
        "id": "r9X9WNoSCknD",
        "colab": {
          "base_uri": "https://localhost:8080/"
        },
        "outputId": "0d0487cf-9d4c-4ad5-b675-706b361c0e0f"
      },
      "source": [
        "from sklearn import tree\n",
        "# MODELO LOGISTIC REGRESSION\n",
        "\n",
        "# declara o classificador\n",
        "clf_b = LogisticRegression()\n",
        "\n",
        "# treina o classificador\n",
        "clf_b = clf_b.fit(X_train, y_train)\n",
        "\n",
        "# testa usando a base de testes\n",
        "yhat_b = clf_b.predict(X_test)\n",
        "\n",
        "print(f'Model test accuracy: {clf_b.score(X_test, y_test)*100:.3f}%')"
      ],
      "execution_count": 49,
      "outputs": [
        {
          "output_type": "stream",
          "text": [
            "Model test accuracy: 75.429%\n"
          ],
          "name": "stdout"
        }
      ]
    },
    {
      "cell_type": "code",
      "metadata": {
        "colab": {
          "base_uri": "https://localhost:8080/"
        },
        "id": "aL41nYsKfNr9",
        "outputId": "c5b41ee8-eeef-4d5b-e6df-8f2cde5f9695"
      },
      "source": [
        "# MODELO NAIVE BAYES\n",
        "\n",
        "# Treina o classificador\n",
        "clf_c = GaussianNB()\n",
        "clf_c = clf_c.fit(X_train.toarray(), y_train)\n",
        "\n",
        "# calcula a acurácia na base de teste\n",
        "score=clf_c.score(X_test.toarray(), y_test)\n",
        "\n",
        "# testa usando a base de testes\n",
        "yhat_c = clf_c.predict(X_test.toarray())\n",
        "\n",
        "print(f'Model test accuracy: {clf_c.score(X_test.toarray(), y_test)*100:.3f}%')"
      ],
      "execution_count": 14,
      "outputs": [
        {
          "output_type": "stream",
          "text": [
            "Model test accuracy: 72.000%\n"
          ],
          "name": "stdout"
        }
      ]
    },
    {
      "cell_type": "markdown",
      "metadata": {
        "id": "GUxxyBFyl7-r"
      },
      "source": [
        "# 4) Gere a matriz de confusão e calcule: cobertura, precisão e medida-f."
      ]
    },
    {
      "cell_type": "code",
      "metadata": {
        "colab": {
          "base_uri": "https://localhost:8080/"
        },
        "id": "ACFWQrZAfjD0",
        "outputId": "94a27069-92f8-4099-95e7-dbcdcc3203eb"
      },
      "source": [
        "recall_a = recall_score(y_test, yhat_a, average='weighted')\n",
        "recall_b = recall_score(y_test, yhat_b, average='weighted')\n",
        "recall_c = recall_score(y_test, yhat_c, average='weighted')\n",
        "\n",
        "print('Recall: %.3f' % recall_a)\n",
        "print('Recall: %.3f' % recall_b)\n",
        "print('Recall: %.3f' % recall_c)"
      ],
      "execution_count": 40,
      "outputs": [
        {
          "output_type": "stream",
          "text": [
            "Recall: 0.749\n",
            "Recall: 0.594\n",
            "Recall: 0.720\n"
          ],
          "name": "stdout"
        }
      ]
    },
    {
      "cell_type": "code",
      "metadata": {
        "colab": {
          "base_uri": "https://localhost:8080/"
        },
        "id": "_YeM_Gf4Xtq5",
        "outputId": "2b128110-cd13-4a3d-ca4d-bdfd8226c7c0"
      },
      "source": [
        "precision_a = precision_score(y_test, yhat_a, average='weighted')\n",
        "precision_b = precision_score(y_test, yhat_b, average='weighted')\n",
        "precision_c = precision_score(y_test, yhat_c, average='weighted')\n",
        "\n",
        "print('Precision: %.3f' % precision_a)\n",
        "print('Precision: %.3f' % precision_b)\n",
        "print('Precision: %.3f' % precision_c)\n",
        "\n"
      ],
      "execution_count": 16,
      "outputs": [
        {
          "output_type": "stream",
          "text": [
            "Precision: 0.734\n",
            "Precision: 0.656\n",
            "Precision: 0.702\n"
          ],
          "name": "stdout"
        },
        {
          "output_type": "stream",
          "text": [
            "/usr/local/lib/python3.7/dist-packages/sklearn/metrics/_classification.py:1272: UndefinedMetricWarning: Precision is ill-defined and being set to 0.0 in labels with no predicted samples. Use `zero_division` parameter to control this behavior.\n",
            "  _warn_prf(average, modifier, msg_start, len(result))\n"
          ],
          "name": "stderr"
        }
      ]
    },
    {
      "cell_type": "code",
      "metadata": {
        "colab": {
          "base_uri": "https://localhost:8080/"
        },
        "id": "3BAdRBnSWWj7",
        "outputId": "c373c84b-c400-4400-8e77-d999ccd54a58"
      },
      "source": [
        "#https://www.baeldung.com/cs/multi-class-f1-score\n",
        "score_a = f1_score(y_test, yhat_a, average='weighted')\n",
        "score_b = f1_score(y_test, yhat_b, average='weighted')\n",
        "score_c = f1_score(y_test, yhat_c, average='weighted')\n",
        "\n",
        "print('F-Measure: %.3f' % score_a)\n",
        "print('F-Measure: %.3f' % score_b)\n",
        "print('F-Measure: %.3f' % score_c)"
      ],
      "execution_count": 17,
      "outputs": [
        {
          "output_type": "stream",
          "text": [
            "F-Measure: 0.735\n",
            "F-Measure: 0.442\n",
            "F-Measure: 0.704\n"
          ],
          "name": "stdout"
        }
      ]
    },
    {
      "cell_type": "markdown",
      "metadata": {
        "id": "Imr6hk_cmBTX"
      },
      "source": [
        "#5) Plote a matriz de confusão e imprima a cobertura, precisão e medida-f para cada classe."
      ]
    },
    {
      "cell_type": "code",
      "metadata": {
        "colab": {
          "base_uri": "https://localhost:8080/",
          "height": 623
        },
        "id": "EzrwCrDEWYMt",
        "outputId": "3e527257-c6ec-476c-da5e-472f06be270e"
      },
      "source": [
        "confusion_matrix = pd.crosstab(y_test, yhat_a, rownames=['Actual'], colnames=['Predicted'])\n",
        "sns.heatmap(confusion_matrix, annot=True )"
      ],
      "execution_count": 51,
      "outputs": [
        {
          "output_type": "execute_result",
          "data": {
            "text/plain": [
              "<matplotlib.axes._subplots.AxesSubplot at 0x7f7f0c773050>"
            ]
          },
          "metadata": {
            "tags": []
          },
          "execution_count": 51
        },
        {
          "output_type": "display_data",
          "data": {
            "image/png": "[encoded data removed]",
            "text/plain": [
              "<Figure size 1080x720 with 2 Axes>"
            ]
          },
          "metadata": {
            "tags": []
          }
        }
      ]
    },
    {
      "cell_type": "code",
      "metadata": {
        "colab": {
          "base_uri": "https://localhost:8080/",
          "height": 623
        },
        "id": "kukzfj1rk7KX",
        "outputId": "e4945718-ec7e-4072-8874-533175cd90e6"
      },
      "source": [
        "confusion_matrix = pd.crosstab(y_test, yhat_b, rownames=['Actual'], colnames=['Predicted'])\n",
        "sns.heatmap(confusion_matrix, annot=True )"
      ],
      "execution_count": 50,
      "outputs": [
        {
          "output_type": "execute_result",
          "data": {
            "text/plain": [
              "<matplotlib.axes._subplots.AxesSubplot at 0x7f7f0c7fcdd0>"
            ]
          },
          "metadata": {
            "tags": []
          },
          "execution_count": 50
        },
        {
          "output_type": "display_data",
          "data": {
            "image/png": "[encoded data removed]",
            "text/plain": [
              "<Figure size 1080x720 with 2 Axes>"
            ]
          },
          "metadata": {
            "tags": []
          }
        }
      ]
    },
    {
      "cell_type": "code",
      "metadata": {
        "colab": {
          "base_uri": "https://localhost:8080/",
          "height": 623
        },
        "id": "zcXDDhXNk7C_",
        "outputId": "83dcc9d9-db1e-46c7-87c4-b06c657c9053"
      },
      "source": [
        "confusion_matrix = pd.crosstab(y_test, yhat_c, rownames=['Actual'], colnames=['Predicted'])\n",
        "sns.heatmap(confusion_matrix, annot=True )"
      ],
      "execution_count": 59,
      "outputs": [
        {
          "output_type": "execute_result",
          "data": {
            "text/plain": [
              "<matplotlib.axes._subplots.AxesSubplot at 0x7f7f0be0d5d0>"
            ]
          },
          "metadata": {
            "tags": []
          },
          "execution_count": 59
        },
        {
          "output_type": "display_data",
          "data": {
            "image/png": "[encoded data removed]",
            "text/plain": [
              "<Figure size 1080x720 with 2 Axes>"
            ]
          },
          "metadata": {
            "tags": []
          }
        }
      ]
    },
    {
      "cell_type": "code",
      "metadata": {
        "colab": {
          "base_uri": "https://localhost:8080/"
        },
        "id": "JviYBdVsfQqS",
        "outputId": "4027e5bb-7072-401c-9e0c-ab55b1d07153"
      },
      "source": [
        "recall = recall_score(y_test, yhat_a, average=None)\n",
        "recall"
      ],
      "execution_count": 22,
      "outputs": [
        {
          "output_type": "execute_result",
          "data": {
            "text/plain": [
              "array([0.87254902, 0.69090909, 0.22222222])"
            ]
          },
          "metadata": {
            "tags": []
          },
          "execution_count": 22
        }
      ]
    },
    {
      "cell_type": "code",
      "metadata": {
        "colab": {
          "base_uri": "https://localhost:8080/"
        },
        "id": "g7rRHN74LpYd",
        "outputId": "52ab046b-616c-410e-e259-9987d530d4e1"
      },
      "source": [
        "recall = recall_score(y_test, yhat_b, average=None)\n",
        "recall"
      ],
      "execution_count": 23,
      "outputs": [
        {
          "output_type": "execute_result",
          "data": {
            "text/plain": [
              "array([1.        , 0.01818182, 0.        ])"
            ]
          },
          "metadata": {
            "tags": []
          },
          "execution_count": 23
        }
      ]
    },
    {
      "cell_type": "code",
      "metadata": {
        "colab": {
          "base_uri": "https://localhost:8080/"
        },
        "id": "n7yNbiUgLpV0",
        "outputId": "bd403d76-f408-4c29-8964-cc1b1c6b7b77"
      },
      "source": [
        "recall = recall_score(y_test, yhat_c, average=None)\n",
        "recall"
      ],
      "execution_count": 25,
      "outputs": [
        {
          "output_type": "execute_result",
          "data": {
            "text/plain": [
              "array([0.79411765, 0.78181818, 0.11111111])"
            ]
          },
          "metadata": {
            "tags": []
          },
          "execution_count": 25
        }
      ]
    },
    {
      "cell_type": "code",
      "metadata": {
        "colab": {
          "base_uri": "https://localhost:8080/"
        },
        "id": "n7oD86pycIWa",
        "outputId": "b7c7f0d4-8db0-431d-cbfc-a44c69f13b75"
      },
      "source": [
        "precision = precision_score(y_test, yhat_a, average=None)\n",
        "precision"
      ],
      "execution_count": 26,
      "outputs": [
        {
          "output_type": "execute_result",
          "data": {
            "text/plain": [
              "array([0.82407407, 0.6440678 , 0.5       ])"
            ]
          },
          "metadata": {
            "tags": []
          },
          "execution_count": 26
        }
      ]
    },
    {
      "cell_type": "code",
      "metadata": {
        "colab": {
          "base_uri": "https://localhost:8080/"
        },
        "id": "uZYBVHwsL0IP",
        "outputId": "b04c63f9-bfd7-472a-f7ce-dd6285296a58"
      },
      "source": [
        "precision = precision_score(y_test, yhat_b, average=None)\n",
        "precision"
      ],
      "execution_count": 27,
      "outputs": [
        {
          "output_type": "stream",
          "text": [
            "/usr/local/lib/python3.7/dist-packages/sklearn/metrics/_classification.py:1272: UndefinedMetricWarning: Precision is ill-defined and being set to 0.0 in labels with no predicted samples. Use `zero_division` parameter to control this behavior.\n",
            "  _warn_prf(average, modifier, msg_start, len(result))\n"
          ],
          "name": "stderr"
        },
        {
          "output_type": "execute_result",
          "data": {
            "text/plain": [
              "array([0.5862069, 1.       , 0.       ])"
            ]
          },
          "metadata": {
            "tags": []
          },
          "execution_count": 27
        }
      ]
    },
    {
      "cell_type": "code",
      "metadata": {
        "colab": {
          "base_uri": "https://localhost:8080/"
        },
        "id": "Sqv9hplNL0Fu",
        "outputId": "b68aadff-6656-444c-b11c-80ba7ceb8b3d"
      },
      "source": [
        "precision = precision_score(y_test, yhat_c, average=None)\n",
        "precision"
      ],
      "execution_count": 28,
      "outputs": [
        {
          "output_type": "execute_result",
          "data": {
            "text/plain": [
              "array([0.81818182, 0.62318841, 0.28571429])"
            ]
          },
          "metadata": {
            "tags": []
          },
          "execution_count": 28
        }
      ]
    },
    {
      "cell_type": "code",
      "metadata": {
        "colab": {
          "base_uri": "https://localhost:8080/"
        },
        "id": "JDL3HA0DcIY0",
        "outputId": "9b58a84a-4600-4641-a5d6-abc492157705"
      },
      "source": [
        "score = f1_score(y_test, yhat_a, average=None)\n",
        "score"
      ],
      "execution_count": 29,
      "outputs": [
        {
          "output_type": "execute_result",
          "data": {
            "text/plain": [
              "array([0.84761905, 0.66666667, 0.30769231])"
            ]
          },
          "metadata": {
            "tags": []
          },
          "execution_count": 29
        }
      ]
    },
    {
      "cell_type": "code",
      "metadata": {
        "colab": {
          "base_uri": "https://localhost:8080/"
        },
        "id": "57MZFziLL9Ym",
        "outputId": "2c554205-a4ec-4371-a234-9e373b95ac4a"
      },
      "source": [
        "score = f1_score(y_test, yhat_b, average=None)\n",
        "score"
      ],
      "execution_count": 30,
      "outputs": [
        {
          "output_type": "execute_result",
          "data": {
            "text/plain": [
              "array([0.73913043, 0.03571429, 0.        ])"
            ]
          },
          "metadata": {
            "tags": []
          },
          "execution_count": 30
        }
      ]
    },
    {
      "cell_type": "code",
      "metadata": {
        "colab": {
          "base_uri": "https://localhost:8080/"
        },
        "id": "jjBS8BxxL9nz",
        "outputId": "1cbfb7d1-9a74-4a86-e6d2-4dfb4c5f6f03"
      },
      "source": [
        "score = f1_score(y_test, yhat_c, average=None)\n",
        "score"
      ],
      "execution_count": 31,
      "outputs": [
        {
          "output_type": "execute_result",
          "data": {
            "text/plain": [
              "array([0.80597015, 0.69354839, 0.16      ])"
            ]
          },
          "metadata": {
            "tags": []
          },
          "execution_count": 31
        }
      ]
    }
  ]
}